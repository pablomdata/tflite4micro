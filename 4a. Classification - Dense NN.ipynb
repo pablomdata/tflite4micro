{
 "cells": [
  {
   "cell_type": "code",
   "execution_count": 1,
   "id": "008c4d98",
   "metadata": {},
   "outputs": [
    {
     "name": "stdout",
     "output_type": "stream",
     "text": [
      "WARNING:tensorflow:From C:\\Users\\HP\\AppData\\Local\\Programs\\Python\\Python310\\lib\\site-packages\\keras\\src\\losses.py:2976: The name tf.losses.sparse_softmax_cross_entropy is deprecated. Please use tf.compat.v1.losses.sparse_softmax_cross_entropy instead.\n",
      "\n"
     ]
    }
   ],
   "source": [
    "import pandas as pd\n",
    "import tensorflow as tf\n",
    "import numpy as np\n",
    "import matplotlib.pyplot as plt"
   ]
  },
  {
   "cell_type": "code",
   "execution_count": 2,
   "id": "c2cd78ba",
   "metadata": {},
   "outputs": [],
   "source": [
    "# Fijar la semilla del generador\n",
    "tf.keras.utils.set_random_seed(0)"
   ]
  },
  {
   "cell_type": "code",
   "execution_count": 3,
   "id": "dac06492",
   "metadata": {},
   "outputs": [],
   "source": [
    "df = pd.read_csv('./data/ford_train.tsv', sep='\\t', header=None)"
   ]
  },
  {
   "cell_type": "code",
   "execution_count": 4,
   "id": "8b4e127b",
   "metadata": {},
   "outputs": [
    {
     "data": {
      "text/html": [
       "<div>\n",
       "<style scoped>\n",
       "    .dataframe tbody tr th:only-of-type {\n",
       "        vertical-align: middle;\n",
       "    }\n",
       "\n",
       "    .dataframe tbody tr th {\n",
       "        vertical-align: top;\n",
       "    }\n",
       "\n",
       "    .dataframe thead th {\n",
       "        text-align: right;\n",
       "    }\n",
       "</style>\n",
       "<table border=\"1\" class=\"dataframe\">\n",
       "  <thead>\n",
       "    <tr style=\"text-align: right;\">\n",
       "      <th></th>\n",
       "      <th>0</th>\n",
       "      <th>1</th>\n",
       "      <th>2</th>\n",
       "      <th>3</th>\n",
       "      <th>4</th>\n",
       "      <th>5</th>\n",
       "      <th>6</th>\n",
       "      <th>7</th>\n",
       "      <th>8</th>\n",
       "      <th>9</th>\n",
       "      <th>...</th>\n",
       "      <th>491</th>\n",
       "      <th>492</th>\n",
       "      <th>493</th>\n",
       "      <th>494</th>\n",
       "      <th>495</th>\n",
       "      <th>496</th>\n",
       "      <th>497</th>\n",
       "      <th>498</th>\n",
       "      <th>499</th>\n",
       "      <th>500</th>\n",
       "    </tr>\n",
       "  </thead>\n",
       "  <tbody>\n",
       "    <tr>\n",
       "      <th>0</th>\n",
       "      <td>-1</td>\n",
       "      <td>-0.797172</td>\n",
       "      <td>-0.664392</td>\n",
       "      <td>-0.373015</td>\n",
       "      <td>0.040815</td>\n",
       "      <td>0.526936</td>\n",
       "      <td>0.984288</td>\n",
       "      <td>1.353120</td>\n",
       "      <td>1.578108</td>\n",
       "      <td>1.659251</td>\n",
       "      <td>...</td>\n",
       "      <td>1.120756</td>\n",
       "      <td>0.722417</td>\n",
       "      <td>0.362068</td>\n",
       "      <td>0.092083</td>\n",
       "      <td>-0.081268</td>\n",
       "      <td>-0.212573</td>\n",
       "      <td>-0.391456</td>\n",
       "      <td>-0.664392</td>\n",
       "      <td>-1.073796</td>\n",
       "      <td>-1.564343</td>\n",
       "    </tr>\n",
       "    <tr>\n",
       "      <th>1</th>\n",
       "      <td>1</td>\n",
       "      <td>0.804855</td>\n",
       "      <td>0.634629</td>\n",
       "      <td>0.373474</td>\n",
       "      <td>0.038343</td>\n",
       "      <td>-0.340988</td>\n",
       "      <td>-0.740860</td>\n",
       "      <td>-1.109667</td>\n",
       "      <td>-1.395357</td>\n",
       "      <td>-1.570192</td>\n",
       "      <td>...</td>\n",
       "      <td>0.386403</td>\n",
       "      <td>0.049213</td>\n",
       "      <td>-0.258138</td>\n",
       "      <td>-0.510583</td>\n",
       "      <td>-0.683647</td>\n",
       "      <td>-0.773817</td>\n",
       "      <td>-0.785255</td>\n",
       "      <td>-0.714885</td>\n",
       "      <td>-0.560443</td>\n",
       "      <td>-0.319086</td>\n",
       "    </tr>\n",
       "    <tr>\n",
       "      <th>2</th>\n",
       "      <td>-1</td>\n",
       "      <td>0.727985</td>\n",
       "      <td>0.111284</td>\n",
       "      <td>-0.499124</td>\n",
       "      <td>-1.068629</td>\n",
       "      <td>-1.578351</td>\n",
       "      <td>-1.990534</td>\n",
       "      <td>-2.302031</td>\n",
       "      <td>-2.503403</td>\n",
       "      <td>-2.585211</td>\n",
       "      <td>...</td>\n",
       "      <td>0.394463</td>\n",
       "      <td>0.463685</td>\n",
       "      <td>0.507735</td>\n",
       "      <td>0.517174</td>\n",
       "      <td>0.504588</td>\n",
       "      <td>0.476270</td>\n",
       "      <td>0.438513</td>\n",
       "      <td>0.394463</td>\n",
       "      <td>0.339400</td>\n",
       "      <td>0.255391</td>\n",
       "    </tr>\n",
       "    <tr>\n",
       "      <th>3</th>\n",
       "      <td>-1</td>\n",
       "      <td>-0.234439</td>\n",
       "      <td>-0.502157</td>\n",
       "      <td>-0.732488</td>\n",
       "      <td>-0.946128</td>\n",
       "      <td>-1.139739</td>\n",
       "      <td>-1.323336</td>\n",
       "      <td>-1.490243</td>\n",
       "      <td>-1.607077</td>\n",
       "      <td>-1.620430</td>\n",
       "      <td>...</td>\n",
       "      <td>-0.952804</td>\n",
       "      <td>-0.929437</td>\n",
       "      <td>-0.922761</td>\n",
       "      <td>-0.929437</td>\n",
       "      <td>-0.909409</td>\n",
       "      <td>-0.835970</td>\n",
       "      <td>-0.695768</td>\n",
       "      <td>-0.478790</td>\n",
       "      <td>-0.188707</td>\n",
       "      <td>0.119736</td>\n",
       "    </tr>\n",
       "    <tr>\n",
       "      <th>4</th>\n",
       "      <td>-1</td>\n",
       "      <td>-0.171328</td>\n",
       "      <td>-0.062285</td>\n",
       "      <td>0.235829</td>\n",
       "      <td>0.710396</td>\n",
       "      <td>1.239969</td>\n",
       "      <td>1.649823</td>\n",
       "      <td>1.876321</td>\n",
       "      <td>1.865535</td>\n",
       "      <td>1.703751</td>\n",
       "      <td>...</td>\n",
       "      <td>0.776188</td>\n",
       "      <td>0.725496</td>\n",
       "      <td>0.697453</td>\n",
       "      <td>0.731967</td>\n",
       "      <td>0.808545</td>\n",
       "      <td>0.839823</td>\n",
       "      <td>0.733046</td>\n",
       "      <td>0.437520</td>\n",
       "      <td>-0.026585</td>\n",
       "      <td>-0.602213</td>\n",
       "    </tr>\n",
       "  </tbody>\n",
       "</table>\n",
       "<p>5 rows × 501 columns</p>\n",
       "</div>"
      ],
      "text/plain": [
       "   0         1         2         3         4         5         6         7    \\\n",
       "0   -1 -0.797172 -0.664392 -0.373015  0.040815  0.526936  0.984288  1.353120   \n",
       "1    1  0.804855  0.634629  0.373474  0.038343 -0.340988 -0.740860 -1.109667   \n",
       "2   -1  0.727985  0.111284 -0.499124 -1.068629 -1.578351 -1.990534 -2.302031   \n",
       "3   -1 -0.234439 -0.502157 -0.732488 -0.946128 -1.139739 -1.323336 -1.490243   \n",
       "4   -1 -0.171328 -0.062285  0.235829  0.710396  1.239969  1.649823  1.876321   \n",
       "\n",
       "        8         9    ...       491       492       493       494       495  \\\n",
       "0  1.578108  1.659251  ...  1.120756  0.722417  0.362068  0.092083 -0.081268   \n",
       "1 -1.395357 -1.570192  ...  0.386403  0.049213 -0.258138 -0.510583 -0.683647   \n",
       "2 -2.503403 -2.585211  ...  0.394463  0.463685  0.507735  0.517174  0.504588   \n",
       "3 -1.607077 -1.620430  ... -0.952804 -0.929437 -0.922761 -0.929437 -0.909409   \n",
       "4  1.865535  1.703751  ...  0.776188  0.725496  0.697453  0.731967  0.808545   \n",
       "\n",
       "        496       497       498       499       500  \n",
       "0 -0.212573 -0.391456 -0.664392 -1.073796 -1.564343  \n",
       "1 -0.773817 -0.785255 -0.714885 -0.560443 -0.319086  \n",
       "2  0.476270  0.438513  0.394463  0.339400  0.255391  \n",
       "3 -0.835970 -0.695768 -0.478790 -0.188707  0.119736  \n",
       "4  0.839823  0.733046  0.437520 -0.026585 -0.602213  \n",
       "\n",
       "[5 rows x 501 columns]"
      ]
     },
     "execution_count": 4,
     "metadata": {},
     "output_type": "execute_result"
    }
   ],
   "source": [
    "df.head()"
   ]
  },
  {
   "cell_type": "code",
   "execution_count": 5,
   "id": "84516b6a",
   "metadata": {},
   "outputs": [],
   "source": [
    "X = df.iloc[:,1:].values\n",
    "y = df.iloc[:,0].values"
   ]
  },
  {
   "cell_type": "code",
   "execution_count": 6,
   "id": "ac933e9f",
   "metadata": {},
   "outputs": [],
   "source": [
    "y = (y+1)/2 # Cambiar -1 por 0 (operación vectorizada en numpy)"
   ]
  },
  {
   "cell_type": "markdown",
   "id": "05fb9bfc",
   "metadata": {},
   "source": [
    "## Dividir en train/val "
   ]
  },
  {
   "cell_type": "code",
   "execution_count": 7,
   "id": "2e8eca81",
   "metadata": {},
   "outputs": [],
   "source": [
    "from sklearn.model_selection import train_test_split"
   ]
  },
  {
   "cell_type": "code",
   "execution_count": 8,
   "id": "d29cda43",
   "metadata": {},
   "outputs": [],
   "source": [
    "X_train, X_val, y_train, y_val = train_test_split(X,y, train_size=0.8, random_state=0)"
   ]
  },
  {
   "cell_type": "code",
   "execution_count": 9,
   "id": "d013d9ff",
   "metadata": {},
   "outputs": [
    {
     "data": {
      "text/plain": [
       "(2880, 500)"
      ]
     },
     "execution_count": 9,
     "metadata": {},
     "output_type": "execute_result"
    }
   ],
   "source": [
    "X_train.shape"
   ]
  },
  {
   "cell_type": "code",
   "execution_count": 10,
   "id": "7f67b641",
   "metadata": {},
   "outputs": [
    {
     "data": {
      "text/plain": [
       "(721, 500)"
      ]
     },
     "execution_count": 10,
     "metadata": {},
     "output_type": "execute_result"
    }
   ],
   "source": [
    "X_val.shape"
   ]
  },
  {
   "cell_type": "markdown",
   "id": "49eb2368",
   "metadata": {},
   "source": [
    "## Crear modelo y entrenar"
   ]
  },
  {
   "cell_type": "code",
   "execution_count": 11,
   "id": "fd579073",
   "metadata": {},
   "outputs": [
    {
     "name": "stdout",
     "output_type": "stream",
     "text": [
      "WARNING:tensorflow:From C:\\Users\\HP\\AppData\\Local\\Programs\\Python\\Python310\\lib\\site-packages\\keras\\src\\backend.py:1398: The name tf.executing_eagerly_outside_functions is deprecated. Please use tf.compat.v1.executing_eagerly_outside_functions instead.\n",
      "\n"
     ]
    }
   ],
   "source": [
    "model = tf.keras.Sequential([\n",
    "    tf.keras.layers.Input(shape=(X_train.shape[1],)),\n",
    "    tf.keras.layers.Dense(100),\n",
    "    tf.keras.layers.Dense(50),\n",
    "    tf.keras.layers.Dense(25),\n",
    "    tf.keras.layers.Dense(1, activation='sigmoid')\n",
    "])"
   ]
  },
  {
   "cell_type": "code",
   "execution_count": 12,
   "id": "a733a009",
   "metadata": {},
   "outputs": [
    {
     "name": "stdout",
     "output_type": "stream",
     "text": [
      "Model: \"sequential\"\n",
      "_________________________________________________________________\n",
      " Layer (type)                Output Shape              Param #   \n",
      "=================================================================\n",
      " dense (Dense)               (None, 100)               50100     \n",
      "                                                                 \n",
      " dense_1 (Dense)             (None, 50)                5050      \n",
      "                                                                 \n",
      " dense_2 (Dense)             (None, 25)                1275      \n",
      "                                                                 \n",
      " dense_3 (Dense)             (None, 1)                 26        \n",
      "                                                                 \n",
      "=================================================================\n",
      "Total params: 56451 (220.51 KB)\n",
      "Trainable params: 56451 (220.51 KB)\n",
      "Non-trainable params: 0 (0.00 Byte)\n",
      "_________________________________________________________________\n"
     ]
    }
   ],
   "source": [
    "model.summary()"
   ]
  },
  {
   "cell_type": "code",
   "execution_count": 13,
   "id": "ea8256e7",
   "metadata": {},
   "outputs": [
    {
     "name": "stdout",
     "output_type": "stream",
     "text": [
      "WARNING:tensorflow:From C:\\Users\\HP\\AppData\\Local\\Programs\\Python\\Python310\\lib\\site-packages\\keras\\src\\optimizers\\__init__.py:309: The name tf.train.Optimizer is deprecated. Please use tf.compat.v1.train.Optimizer instead.\n",
      "\n"
     ]
    }
   ],
   "source": [
    "model.compile(loss='mse', ) # mse = mean squared error (error cuadrado promedio)"
   ]
  },
  {
   "cell_type": "code",
   "execution_count": 14,
   "id": "0f03cd6e",
   "metadata": {},
   "outputs": [
    {
     "name": "stdout",
     "output_type": "stream",
     "text": [
      "Epoch 1/100\n",
      "WARNING:tensorflow:From C:\\Users\\HP\\AppData\\Local\\Programs\\Python\\Python310\\lib\\site-packages\\keras\\src\\utils\\tf_utils.py:492: The name tf.ragged.RaggedTensorValue is deprecated. Please use tf.compat.v1.ragged.RaggedTensorValue instead.\n",
      "\n",
      "90/90 [==============================] - 2s 10ms/step - loss: 0.3529 - val_loss: 0.2693\n",
      "Epoch 2/100\n",
      "90/90 [==============================] - 1s 6ms/step - loss: 0.2625 - val_loss: 0.2673\n",
      "Epoch 3/100\n",
      "90/90 [==============================] - 1s 6ms/step - loss: 0.2568 - val_loss: 0.2650\n",
      "Epoch 4/100\n",
      "90/90 [==============================] - 1s 7ms/step - loss: 0.2568 - val_loss: 0.2550\n",
      "Epoch 5/100\n",
      "90/90 [==============================] - 0s 6ms/step - loss: 0.2551 - val_loss: 0.2617\n",
      "Epoch 6/100\n",
      "90/90 [==============================] - 1s 6ms/step - loss: 0.2521 - val_loss: 0.2589\n",
      "Epoch 7/100\n",
      "90/90 [==============================] - 1s 6ms/step - loss: 0.2518 - val_loss: 0.2653\n",
      "Epoch 8/100\n",
      "90/90 [==============================] - 1s 6ms/step - loss: 0.2509 - val_loss: 0.2610\n",
      "Epoch 9/100\n",
      "90/90 [==============================] - 1s 6ms/step - loss: 0.2506 - val_loss: 0.2674\n",
      "Epoch 10/100\n",
      "90/90 [==============================] - 1s 6ms/step - loss: 0.2493 - val_loss: 0.2607\n",
      "Epoch 11/100\n",
      "90/90 [==============================] - 1s 6ms/step - loss: 0.2506 - val_loss: 0.2567\n",
      "Epoch 12/100\n",
      "90/90 [==============================] - 1s 6ms/step - loss: 0.2497 - val_loss: 0.2637\n",
      "Epoch 13/100\n",
      "90/90 [==============================] - 1s 6ms/step - loss: 0.2500 - val_loss: 0.2572\n",
      "Epoch 14/100\n",
      "90/90 [==============================] - 1s 6ms/step - loss: 0.2486 - val_loss: 0.2605\n",
      "Epoch 15/100\n",
      "90/90 [==============================] - 1s 6ms/step - loss: 0.2502 - val_loss: 0.2572\n",
      "Epoch 16/100\n",
      "90/90 [==============================] - 1s 6ms/step - loss: 0.2485 - val_loss: 0.2641\n",
      "Epoch 17/100\n",
      "90/90 [==============================] - 1s 6ms/step - loss: 0.2492 - val_loss: 0.2538\n",
      "Epoch 18/100\n",
      "90/90 [==============================] - 0s 5ms/step - loss: 0.2490 - val_loss: 0.2596\n",
      "Epoch 19/100\n",
      "90/90 [==============================] - 1s 6ms/step - loss: 0.2482 - val_loss: 0.2537\n",
      "Epoch 20/100\n",
      "90/90 [==============================] - 1s 6ms/step - loss: 0.2487 - val_loss: 0.2568\n",
      "Epoch 21/100\n",
      "90/90 [==============================] - 1s 6ms/step - loss: 0.2475 - val_loss: 0.2713\n",
      "Epoch 22/100\n",
      "90/90 [==============================] - 0s 6ms/step - loss: 0.2475 - val_loss: 0.2574\n",
      "Epoch 23/100\n",
      "90/90 [==============================] - 1s 6ms/step - loss: 0.2487 - val_loss: 0.2602\n",
      "Epoch 24/100\n",
      "90/90 [==============================] - 1s 6ms/step - loss: 0.2483 - val_loss: 0.2586\n",
      "Epoch 25/100\n",
      "90/90 [==============================] - 0s 6ms/step - loss: 0.2473 - val_loss: 0.2584\n",
      "Epoch 26/100\n",
      "90/90 [==============================] - 0s 6ms/step - loss: 0.2469 - val_loss: 0.2556\n",
      "Epoch 27/100\n",
      "90/90 [==============================] - 0s 5ms/step - loss: 0.2480 - val_loss: 0.2566\n",
      "Epoch 28/100\n",
      "90/90 [==============================] - 1s 6ms/step - loss: 0.2464 - val_loss: 0.2624\n",
      "Epoch 29/100\n",
      "90/90 [==============================] - 0s 5ms/step - loss: 0.2476 - val_loss: 0.2541\n",
      "Epoch 30/100\n",
      "90/90 [==============================] - 0s 5ms/step - loss: 0.2481 - val_loss: 0.2576\n",
      "Epoch 31/100\n",
      "90/90 [==============================] - 0s 6ms/step - loss: 0.2465 - val_loss: 0.2700\n",
      "Epoch 32/100\n",
      "90/90 [==============================] - 0s 6ms/step - loss: 0.2478 - val_loss: 0.2567\n",
      "Epoch 33/100\n",
      "90/90 [==============================] - 0s 5ms/step - loss: 0.2475 - val_loss: 0.2575\n",
      "Epoch 34/100\n",
      "90/90 [==============================] - 0s 5ms/step - loss: 0.2470 - val_loss: 0.2591\n",
      "Epoch 35/100\n",
      "90/90 [==============================] - 0s 6ms/step - loss: 0.2471 - val_loss: 0.2608\n",
      "Epoch 36/100\n",
      "90/90 [==============================] - 1s 6ms/step - loss: 0.2467 - val_loss: 0.2609\n",
      "Epoch 37/100\n",
      "90/90 [==============================] - 1s 6ms/step - loss: 0.2467 - val_loss: 0.2597\n",
      "Epoch 38/100\n",
      "90/90 [==============================] - 1s 6ms/step - loss: 0.2468 - val_loss: 0.2598\n",
      "Epoch 39/100\n",
      "90/90 [==============================] - 0s 6ms/step - loss: 0.2464 - val_loss: 0.2652\n",
      "Epoch 40/100\n",
      "90/90 [==============================] - 0s 6ms/step - loss: 0.2456 - val_loss: 0.2611\n",
      "Epoch 41/100\n",
      "90/90 [==============================] - 0s 6ms/step - loss: 0.2458 - val_loss: 0.2516\n",
      "Epoch 42/100\n",
      "90/90 [==============================] - 0s 5ms/step - loss: 0.2458 - val_loss: 0.2579\n",
      "Epoch 43/100\n",
      "90/90 [==============================] - 1s 6ms/step - loss: 0.2456 - val_loss: 0.2571\n",
      "Epoch 44/100\n",
      "90/90 [==============================] - 1s 6ms/step - loss: 0.2459 - val_loss: 0.2547\n",
      "Epoch 45/100\n",
      "90/90 [==============================] - 0s 5ms/step - loss: 0.2459 - val_loss: 0.2655\n",
      "Epoch 46/100\n",
      "90/90 [==============================] - 1s 6ms/step - loss: 0.2452 - val_loss: 0.2701\n",
      "Epoch 47/100\n",
      "90/90 [==============================] - 0s 5ms/step - loss: 0.2461 - val_loss: 0.2534\n",
      "Epoch 48/100\n",
      "90/90 [==============================] - 0s 5ms/step - loss: 0.2455 - val_loss: 0.2569\n",
      "Epoch 49/100\n",
      "90/90 [==============================] - 1s 6ms/step - loss: 0.2455 - val_loss: 0.2615\n",
      "Epoch 50/100\n",
      "90/90 [==============================] - 1s 6ms/step - loss: 0.2457 - val_loss: 0.2549\n",
      "Epoch 51/100\n",
      "90/90 [==============================] - 0s 6ms/step - loss: 0.2459 - val_loss: 0.2570\n",
      "Epoch 52/100\n",
      "90/90 [==============================] - 1s 6ms/step - loss: 0.2458 - val_loss: 0.2538\n",
      "Epoch 53/100\n",
      "90/90 [==============================] - 0s 5ms/step - loss: 0.2460 - val_loss: 0.2573\n",
      "Epoch 54/100\n",
      "90/90 [==============================] - 0s 6ms/step - loss: 0.2456 - val_loss: 0.2624\n",
      "Epoch 55/100\n",
      "90/90 [==============================] - 0s 5ms/step - loss: 0.2443 - val_loss: 0.2653\n",
      "Epoch 56/100\n",
      "90/90 [==============================] - 0s 5ms/step - loss: 0.2453 - val_loss: 0.2571\n",
      "Epoch 57/100\n",
      "90/90 [==============================] - 0s 5ms/step - loss: 0.2455 - val_loss: 0.2674\n",
      "Epoch 58/100\n",
      "90/90 [==============================] - 0s 6ms/step - loss: 0.2456 - val_loss: 0.2552\n",
      "Epoch 59/100\n",
      "90/90 [==============================] - 1s 6ms/step - loss: 0.2454 - val_loss: 0.2570\n",
      "Epoch 60/100\n",
      "90/90 [==============================] - 1s 6ms/step - loss: 0.2443 - val_loss: 0.2598\n",
      "Epoch 61/100\n",
      "90/90 [==============================] - 1s 6ms/step - loss: 0.2454 - val_loss: 0.2618\n",
      "Epoch 62/100\n",
      "90/90 [==============================] - 0s 6ms/step - loss: 0.2443 - val_loss: 0.2588\n",
      "Epoch 63/100\n",
      "90/90 [==============================] - 1s 6ms/step - loss: 0.2449 - val_loss: 0.2580\n",
      "Epoch 64/100\n",
      "90/90 [==============================] - 1s 6ms/step - loss: 0.2452 - val_loss: 0.2640\n",
      "Epoch 65/100\n",
      "90/90 [==============================] - 1s 6ms/step - loss: 0.2447 - val_loss: 0.2600\n",
      "Epoch 66/100\n",
      "90/90 [==============================] - 1s 6ms/step - loss: 0.2447 - val_loss: 0.2551\n",
      "Epoch 67/100\n",
      "90/90 [==============================] - 1s 6ms/step - loss: 0.2450 - val_loss: 0.2587\n",
      "Epoch 68/100\n",
      "90/90 [==============================] - 1s 6ms/step - loss: 0.2446 - val_loss: 0.2656\n",
      "Epoch 69/100\n",
      "90/90 [==============================] - 1s 6ms/step - loss: 0.2443 - val_loss: 0.2558\n",
      "Epoch 70/100\n",
      "90/90 [==============================] - 1s 6ms/step - loss: 0.2450 - val_loss: 0.2590\n",
      "Epoch 71/100\n",
      "90/90 [==============================] - 1s 6ms/step - loss: 0.2445 - val_loss: 0.2527\n",
      "Epoch 72/100\n",
      "90/90 [==============================] - 1s 6ms/step - loss: 0.2448 - val_loss: 0.2536\n",
      "Epoch 73/100\n",
      "90/90 [==============================] - 1s 6ms/step - loss: 0.2441 - val_loss: 0.2561\n",
      "Epoch 74/100\n",
      "90/90 [==============================] - 0s 6ms/step - loss: 0.2442 - val_loss: 0.2570\n",
      "Epoch 75/100\n",
      "90/90 [==============================] - 0s 5ms/step - loss: 0.2442 - val_loss: 0.2600\n",
      "Epoch 76/100\n",
      "90/90 [==============================] - 0s 6ms/step - loss: 0.2444 - val_loss: 0.2611\n",
      "Epoch 77/100\n",
      "90/90 [==============================] - 0s 5ms/step - loss: 0.2445 - val_loss: 0.2597\n",
      "Epoch 78/100\n",
      "90/90 [==============================] - 1s 6ms/step - loss: 0.2445 - val_loss: 0.2600\n",
      "Epoch 79/100\n",
      "90/90 [==============================] - 1s 6ms/step - loss: 0.2443 - val_loss: 0.2546\n",
      "Epoch 80/100\n"
     ]
    },
    {
     "name": "stdout",
     "output_type": "stream",
     "text": [
      "90/90 [==============================] - 0s 5ms/step - loss: 0.2444 - val_loss: 0.2587\n",
      "Epoch 81/100\n",
      "90/90 [==============================] - 0s 5ms/step - loss: 0.2440 - val_loss: 0.2543\n",
      "Epoch 82/100\n",
      "90/90 [==============================] - 1s 6ms/step - loss: 0.2446 - val_loss: 0.2589\n",
      "Epoch 83/100\n",
      "90/90 [==============================] - 1s 6ms/step - loss: 0.2438 - val_loss: 0.2538\n",
      "Epoch 84/100\n",
      "90/90 [==============================] - 1s 6ms/step - loss: 0.2443 - val_loss: 0.2569\n",
      "Epoch 85/100\n",
      "90/90 [==============================] - 1s 6ms/step - loss: 0.2440 - val_loss: 0.2570\n",
      "Epoch 86/100\n",
      "90/90 [==============================] - 1s 7ms/step - loss: 0.2440 - val_loss: 0.2530\n",
      "Epoch 87/100\n",
      "90/90 [==============================] - 1s 6ms/step - loss: 0.2435 - val_loss: 0.2645\n",
      "Epoch 88/100\n",
      "90/90 [==============================] - 1s 6ms/step - loss: 0.2438 - val_loss: 0.2631\n",
      "Epoch 89/100\n",
      "90/90 [==============================] - 1s 6ms/step - loss: 0.2440 - val_loss: 0.2607\n",
      "Epoch 90/100\n",
      "90/90 [==============================] - 1s 6ms/step - loss: 0.2440 - val_loss: 0.2602\n",
      "Epoch 91/100\n",
      "90/90 [==============================] - 0s 5ms/step - loss: 0.2433 - val_loss: 0.2606\n",
      "Epoch 92/100\n",
      "90/90 [==============================] - 0s 5ms/step - loss: 0.2436 - val_loss: 0.2547\n",
      "Epoch 93/100\n",
      "90/90 [==============================] - 0s 5ms/step - loss: 0.2437 - val_loss: 0.2572\n",
      "Epoch 94/100\n",
      "90/90 [==============================] - 0s 5ms/step - loss: 0.2437 - val_loss: 0.2592\n",
      "Epoch 95/100\n",
      "90/90 [==============================] - 0s 5ms/step - loss: 0.2436 - val_loss: 0.2589\n",
      "Epoch 96/100\n",
      "90/90 [==============================] - 0s 5ms/step - loss: 0.2442 - val_loss: 0.2548\n",
      "Epoch 97/100\n",
      "90/90 [==============================] - 0s 5ms/step - loss: 0.2439 - val_loss: 0.2619\n",
      "Epoch 98/100\n",
      "90/90 [==============================] - 0s 5ms/step - loss: 0.2437 - val_loss: 0.2545\n",
      "Epoch 99/100\n",
      "90/90 [==============================] - 0s 4ms/step - loss: 0.2437 - val_loss: 0.2584\n",
      "Epoch 100/100\n",
      "90/90 [==============================] - 1s 6ms/step - loss: 0.2438 - val_loss: 0.2563\n"
     ]
    }
   ],
   "source": [
    "history = model.fit(X_train, y_train, validation_data=(X_val, y_val), epochs=100, verbose=1)"
   ]
  },
  {
   "cell_type": "code",
   "execution_count": 15,
   "id": "7186c37f",
   "metadata": {},
   "outputs": [],
   "source": [
    "loss = history.history['loss']\n",
    "val_loss = history.history['val_loss']\n",
    "epochs = range(1,len(loss)+1)"
   ]
  },
  {
   "cell_type": "code",
   "execution_count": 16,
   "id": "124ace55",
   "metadata": {},
   "outputs": [
    {
     "data": {
      "text/plain": [
       "<matplotlib.legend.Legend at 0x1f02554d8a0>"
      ]
     },
     "execution_count": 16,
     "metadata": {},
     "output_type": "execute_result"
    },
    {
     "data": {
      "image/png": "[encoded data removed]",
      "text/plain": [
       "<Figure size 432x288 with 1 Axes>"
      ]
     },
     "metadata": {
      "needs_background": "light"
     },
     "output_type": "display_data"
    }
   ],
   "source": [
    "plt.plot(epochs, loss, label='Train loss')\n",
    "plt.plot(epochs, val_loss, label='Val loss')\n",
    "plt.legend()"
   ]
  },
  {
   "cell_type": "markdown",
   "id": "28bd8959",
   "metadata": {},
   "source": [
    "## Resultados en el test set"
   ]
  },
  {
   "cell_type": "code",
   "execution_count": 17,
   "id": "bc18e318",
   "metadata": {},
   "outputs": [],
   "source": [
    "test = pd.read_csv(\"./data/ford_test.tsv\", sep=\"\\t\", header=None)"
   ]
  },
  {
   "cell_type": "code",
   "execution_count": 18,
   "id": "f024e1d2",
   "metadata": {},
   "outputs": [
    {
     "data": {
      "text/html": [
       "<div>\n",
       "<style scoped>\n",
       "    .dataframe tbody tr th:only-of-type {\n",
       "        vertical-align: middle;\n",
       "    }\n",
       "\n",
       "    .dataframe tbody tr th {\n",
       "        vertical-align: top;\n",
       "    }\n",
       "\n",
       "    .dataframe thead th {\n",
       "        text-align: right;\n",
       "    }\n",
       "</style>\n",
       "<table border=\"1\" class=\"dataframe\">\n",
       "  <thead>\n",
       "    <tr style=\"text-align: right;\">\n",
       "      <th></th>\n",
       "      <th>0</th>\n",
       "      <th>1</th>\n",
       "      <th>2</th>\n",
       "      <th>3</th>\n",
       "      <th>4</th>\n",
       "      <th>5</th>\n",
       "      <th>6</th>\n",
       "      <th>7</th>\n",
       "      <th>8</th>\n",
       "      <th>9</th>\n",
       "      <th>...</th>\n",
       "      <th>491</th>\n",
       "      <th>492</th>\n",
       "      <th>493</th>\n",
       "      <th>494</th>\n",
       "      <th>495</th>\n",
       "      <th>496</th>\n",
       "      <th>497</th>\n",
       "      <th>498</th>\n",
       "      <th>499</th>\n",
       "      <th>500</th>\n",
       "    </tr>\n",
       "  </thead>\n",
       "  <tbody>\n",
       "    <tr>\n",
       "      <th>0</th>\n",
       "      <td>-1</td>\n",
       "      <td>-0.140402</td>\n",
       "      <td>0.171641</td>\n",
       "      <td>0.302044</td>\n",
       "      <td>0.232804</td>\n",
       "      <td>0.033853</td>\n",
       "      <td>-0.224183</td>\n",
       "      <td>-0.469987</td>\n",
       "      <td>-0.645396</td>\n",
       "      <td>-0.617700</td>\n",
       "      <td>...</td>\n",
       "      <td>-0.319966</td>\n",
       "      <td>0.390903</td>\n",
       "      <td>0.974831</td>\n",
       "      <td>1.258717</td>\n",
       "      <td>1.143316</td>\n",
       "      <td>0.647092</td>\n",
       "      <td>-0.049582</td>\n",
       "      <td>-0.690402</td>\n",
       "      <td>-0.976596</td>\n",
       "      <td>-0.794263</td>\n",
       "    </tr>\n",
       "    <tr>\n",
       "      <th>1</th>\n",
       "      <td>-1</td>\n",
       "      <td>0.334038</td>\n",
       "      <td>0.322253</td>\n",
       "      <td>0.453844</td>\n",
       "      <td>0.671852</td>\n",
       "      <td>0.887897</td>\n",
       "      <td>1.020469</td>\n",
       "      <td>1.059750</td>\n",
       "      <td>1.030290</td>\n",
       "      <td>0.950746</td>\n",
       "      <td>...</td>\n",
       "      <td>0.435186</td>\n",
       "      <td>-0.346502</td>\n",
       "      <td>-0.924912</td>\n",
       "      <td>-1.208716</td>\n",
       "      <td>-1.247996</td>\n",
       "      <td>-1.139974</td>\n",
       "      <td>-1.041772</td>\n",
       "      <td>-1.041772</td>\n",
       "      <td>-1.159614</td>\n",
       "      <td>-1.375659</td>\n",
       "    </tr>\n",
       "    <tr>\n",
       "      <th>2</th>\n",
       "      <td>-1</td>\n",
       "      <td>0.716686</td>\n",
       "      <td>0.744367</td>\n",
       "      <td>0.725913</td>\n",
       "      <td>0.661325</td>\n",
       "      <td>0.555217</td>\n",
       "      <td>0.413585</td>\n",
       "      <td>0.246580</td>\n",
       "      <td>0.065273</td>\n",
       "      <td>-0.121109</td>\n",
       "      <td>...</td>\n",
       "      <td>3.171020</td>\n",
       "      <td>2.276019</td>\n",
       "      <td>1.219548</td>\n",
       "      <td>0.081881</td>\n",
       "      <td>-1.050250</td>\n",
       "      <td>-2.092881</td>\n",
       "      <td>-2.983269</td>\n",
       "      <td>-3.675281</td>\n",
       "      <td>-4.136622</td>\n",
       "      <td>-4.339612</td>\n",
       "    </tr>\n",
       "    <tr>\n",
       "      <th>3</th>\n",
       "      <td>1</td>\n",
       "      <td>1.240282</td>\n",
       "      <td>1.331189</td>\n",
       "      <td>1.386596</td>\n",
       "      <td>1.383220</td>\n",
       "      <td>1.305979</td>\n",
       "      <td>1.142784</td>\n",
       "      <td>0.878613</td>\n",
       "      <td>0.532291</td>\n",
       "      <td>0.140025</td>\n",
       "      <td>...</td>\n",
       "      <td>-0.820262</td>\n",
       "      <td>-1.124551</td>\n",
       "      <td>-1.302012</td>\n",
       "      <td>-1.340564</td>\n",
       "      <td>-1.271440</td>\n",
       "      <td>-1.146352</td>\n",
       "      <td>-1.011328</td>\n",
       "      <td>-0.931222</td>\n",
       "      <td>-0.934498</td>\n",
       "      <td>-1.001288</td>\n",
       "    </tr>\n",
       "    <tr>\n",
       "      <th>4</th>\n",
       "      <td>-1</td>\n",
       "      <td>-1.159478</td>\n",
       "      <td>-1.204174</td>\n",
       "      <td>-1.167605</td>\n",
       "      <td>-1.033518</td>\n",
       "      <td>-0.818166</td>\n",
       "      <td>-0.558119</td>\n",
       "      <td>-0.299291</td>\n",
       "      <td>-0.093691</td>\n",
       "      <td>0.022770</td>\n",
       "      <td>...</td>\n",
       "      <td>0.660853</td>\n",
       "      <td>0.441438</td>\n",
       "      <td>0.206176</td>\n",
       "      <td>-0.006941</td>\n",
       "      <td>-0.146919</td>\n",
       "      <td>-0.183082</td>\n",
       "      <td>-0.112382</td>\n",
       "      <td>0.008987</td>\n",
       "      <td>0.131413</td>\n",
       "      <td>0.186266</td>\n",
       "    </tr>\n",
       "  </tbody>\n",
       "</table>\n",
       "<p>5 rows × 501 columns</p>\n",
       "</div>"
      ],
      "text/plain": [
       "   0         1         2         3         4         5         6         7    \\\n",
       "0   -1 -0.140402  0.171641  0.302044  0.232804  0.033853 -0.224183 -0.469987   \n",
       "1   -1  0.334038  0.322253  0.453844  0.671852  0.887897  1.020469  1.059750   \n",
       "2   -1  0.716686  0.744367  0.725913  0.661325  0.555217  0.413585  0.246580   \n",
       "3    1  1.240282  1.331189  1.386596  1.383220  1.305979  1.142784  0.878613   \n",
       "4   -1 -1.159478 -1.204174 -1.167605 -1.033518 -0.818166 -0.558119 -0.299291   \n",
       "\n",
       "        8         9    ...       491       492       493       494       495  \\\n",
       "0 -0.645396 -0.617700  ... -0.319966  0.390903  0.974831  1.258717  1.143316   \n",
       "1  1.030290  0.950746  ...  0.435186 -0.346502 -0.924912 -1.208716 -1.247996   \n",
       "2  0.065273 -0.121109  ...  3.171020  2.276019  1.219548  0.081881 -1.050250   \n",
       "3  0.532291  0.140025  ... -0.820262 -1.124551 -1.302012 -1.340564 -1.271440   \n",
       "4 -0.093691  0.022770  ...  0.660853  0.441438  0.206176 -0.006941 -0.146919   \n",
       "\n",
       "        496       497       498       499       500  \n",
       "0  0.647092 -0.049582 -0.690402 -0.976596 -0.794263  \n",
       "1 -1.139974 -1.041772 -1.041772 -1.159614 -1.375659  \n",
       "2 -2.092881 -2.983269 -3.675281 -4.136622 -4.339612  \n",
       "3 -1.146352 -1.011328 -0.931222 -0.934498 -1.001288  \n",
       "4 -0.183082 -0.112382  0.008987  0.131413  0.186266  \n",
       "\n",
       "[5 rows x 501 columns]"
      ]
     },
     "execution_count": 18,
     "metadata": {},
     "output_type": "execute_result"
    }
   ],
   "source": [
    "test.head()"
   ]
  },
  {
   "cell_type": "code",
   "execution_count": 19,
   "id": "fb28eb7a",
   "metadata": {},
   "outputs": [],
   "source": [
    "X_test = test.iloc[:,1:].values\n",
    "y_test = test.iloc[:,0].values"
   ]
  },
  {
   "cell_type": "code",
   "execution_count": 20,
   "id": "bcd77a0f",
   "metadata": {},
   "outputs": [],
   "source": [
    "y_test = (y_test+1)/2"
   ]
  },
  {
   "cell_type": "code",
   "execution_count": 21,
   "id": "6389e902",
   "metadata": {},
   "outputs": [
    {
     "name": "stdout",
     "output_type": "stream",
     "text": [
      "42/42 [==============================] - 0s 2ms/step - loss: 0.2571\n"
     ]
    },
    {
     "data": {
      "text/plain": [
       "0.2571341097354889"
      ]
     },
     "execution_count": 21,
     "metadata": {},
     "output_type": "execute_result"
    }
   ],
   "source": [
    "model.evaluate(X_test, y_test)"
   ]
  },
  {
   "cell_type": "code",
   "execution_count": 22,
   "id": "0d13adf9",
   "metadata": {},
   "outputs": [
    {
     "name": "stdout",
     "output_type": "stream",
     "text": [
      "42/42 [==============================] - 0s 2ms/step\n"
     ]
    }
   ],
   "source": [
    "y_pred_proba = model.predict(X_test)"
   ]
  },
  {
   "cell_type": "code",
   "execution_count": 23,
   "id": "f7f27377",
   "metadata": {},
   "outputs": [],
   "source": [
    "y_pred = [0 if p < 0.5 else 1 for p in y_pred_proba] # list comprehension"
   ]
  },
  {
   "cell_type": "code",
   "execution_count": 24,
   "id": "e29cfbd4",
   "metadata": {},
   "outputs": [
    {
     "data": {
      "text/plain": [
       "array([0., 0., 0., ..., 1., 1., 1.])"
      ]
     },
     "execution_count": 24,
     "metadata": {},
     "output_type": "execute_result"
    }
   ],
   "source": [
    "y_test"
   ]
  },
  {
   "cell_type": "code",
   "execution_count": 25,
   "id": "ea9daf0a",
   "metadata": {},
   "outputs": [],
   "source": [
    "from sklearn.metrics import classification_report, confusion_matrix"
   ]
  },
  {
   "cell_type": "code",
   "execution_count": 26,
   "id": "e823189b",
   "metadata": {},
   "outputs": [
    {
     "name": "stdout",
     "output_type": "stream",
     "text": [
      "              precision    recall  f1-score   support\n",
      "\n",
      "         0.0       0.51      0.56      0.53       681\n",
      "         1.0       0.48      0.44      0.46       639\n",
      "\n",
      "    accuracy                           0.50      1320\n",
      "   macro avg       0.50      0.50      0.49      1320\n",
      "weighted avg       0.50      0.50      0.50      1320\n",
      "\n"
     ]
    }
   ],
   "source": [
    "print(classification_report(y_test, y_pred))"
   ]
  },
  {
   "cell_type": "code",
   "execution_count": 27,
   "id": "dffcaa89",
   "metadata": {},
   "outputs": [
    {
     "data": {
      "text/plain": [
       "array([[378, 303],\n",
       "       [360, 279]], dtype=int64)"
      ]
     },
     "execution_count": 27,
     "metadata": {},
     "output_type": "execute_result"
    }
   ],
   "source": [
    "confusion_matrix(y_test, y_pred)"
   ]
  }
 ],
 "metadata": {
  "kernelspec": {
   "display_name": "Python 3 (ipykernel)",
   "language": "python",
   "name": "python3"
  },
  "language_info": {
   "codemirror_mode": {
    "name": "ipython",
    "version": 3
   },
   "file_extension": ".py",
   "mimetype": "text/x-python",
   "name": "python",
   "nbconvert_exporter": "python",
   "pygments_lexer": "ipython3",
   "version": "3.10.4"
  }
 },
 "nbformat": 4,
 "nbformat_minor": 5
}
