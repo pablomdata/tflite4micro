{
 "cells": [
  {
   "cell_type": "code",
   "execution_count": 1,
   "id": "6fa38175",
   "metadata": {},
   "outputs": [
    {
     "name": "stdout",
     "output_type": "stream",
     "text": [
      "WARNING:tensorflow:From C:\\Users\\HP\\AppData\\Local\\Programs\\Python\\Python310\\lib\\site-packages\\keras\\src\\losses.py:2976: The name tf.losses.sparse_softmax_cross_entropy is deprecated. Please use tf.compat.v1.losses.sparse_softmax_cross_entropy instead.\n",
      "\n"
     ]
    }
   ],
   "source": [
    "import pandas as pd\n",
    "import numpy as np\n",
    "import tensorflow as tf"
   ]
  },
  {
   "cell_type": "code",
   "execution_count": 2,
   "id": "2c4e373b",
   "metadata": {},
   "outputs": [],
   "source": [
    "tf.keras.utils.set_random_seed(123)"
   ]
  },
  {
   "cell_type": "code",
   "execution_count": 3,
   "id": "834cb77e",
   "metadata": {},
   "outputs": [],
   "source": [
    "df = pd.read_csv(\"./src/2024_6_3_Data.txt\", sep='\\t')"
   ]
  },
  {
   "cell_type": "code",
   "execution_count": 4,
   "id": "967d4332",
   "metadata": {
    "scrolled": true
   },
   "outputs": [
    {
     "data": {
      "text/html": [
       "<div>\n",
       "<style scoped>\n",
       "    .dataframe tbody tr th:only-of-type {\n",
       "        vertical-align: middle;\n",
       "    }\n",
       "\n",
       "    .dataframe tbody tr th {\n",
       "        vertical-align: top;\n",
       "    }\n",
       "\n",
       "    .dataframe thead th {\n",
       "        text-align: right;\n",
       "    }\n",
       "</style>\n",
       "<table border=\"1\" class=\"dataframe\">\n",
       "  <thead>\n",
       "    <tr style=\"text-align: right;\">\n",
       "      <th></th>\n",
       "      <th>Date</th>\n",
       "      <th>Command_door</th>\n",
       "      <th>Current (A)</th>\n",
       "      <th>Unnamed: 3</th>\n",
       "    </tr>\n",
       "  </thead>\n",
       "  <tbody>\n",
       "    <tr>\n",
       "      <th>0</th>\n",
       "      <td>3/6/2024  14:51:20.58</td>\n",
       "      <td>COMMAND_CLOSE</td>\n",
       "      <td>0,567</td>\n",
       "      <td>NaN</td>\n",
       "    </tr>\n",
       "    <tr>\n",
       "      <th>1</th>\n",
       "      <td>3/6/2024  14:51:20.137</td>\n",
       "      <td>COMMAND_CLOSE</td>\n",
       "      <td>0,548</td>\n",
       "      <td>NaN</td>\n",
       "    </tr>\n",
       "    <tr>\n",
       "      <th>2</th>\n",
       "      <td>3/6/2024  14:51:20.313</td>\n",
       "      <td>COMMAND_CLOSE</td>\n",
       "      <td>0,547</td>\n",
       "      <td>NaN</td>\n",
       "    </tr>\n",
       "    <tr>\n",
       "      <th>3</th>\n",
       "      <td>3/6/2024  14:51:20.406</td>\n",
       "      <td>COMMAND_CLOSE</td>\n",
       "      <td>0,551</td>\n",
       "      <td>NaN</td>\n",
       "    </tr>\n",
       "    <tr>\n",
       "      <th>4</th>\n",
       "      <td>3/6/2024  14:51:20.483</td>\n",
       "      <td>COMMAND_CLOSE</td>\n",
       "      <td>0,56</td>\n",
       "      <td>NaN</td>\n",
       "    </tr>\n",
       "  </tbody>\n",
       "</table>\n",
       "</div>"
      ],
      "text/plain": [
       "                    Date   Command_door  Current (A)   Unnamed: 3\n",
       "0   3/6/2024  14:51:20.58  COMMAND_CLOSE        0,567         NaN\n",
       "1  3/6/2024  14:51:20.137  COMMAND_CLOSE        0,548         NaN\n",
       "2  3/6/2024  14:51:20.313  COMMAND_CLOSE        0,547         NaN\n",
       "3  3/6/2024  14:51:20.406  COMMAND_CLOSE        0,551         NaN\n",
       "4  3/6/2024  14:51:20.483  COMMAND_CLOSE         0,56         NaN"
      ]
     },
     "execution_count": 4,
     "metadata": {},
     "output_type": "execute_result"
    }
   ],
   "source": [
    "df.head()"
   ]
  },
  {
   "cell_type": "code",
   "execution_count": 5,
   "id": "b17876fc",
   "metadata": {},
   "outputs": [
    {
     "data": {
      "text/plain": [
       "Index(['Date ', 'Command_door ', 'Current (A) ', 'Unnamed: 3'], dtype='object')"
      ]
     },
     "execution_count": 5,
     "metadata": {},
     "output_type": "execute_result"
    }
   ],
   "source": [
    "df.columns"
   ]
  },
  {
   "cell_type": "code",
   "execution_count": 6,
   "id": "c0d61063",
   "metadata": {},
   "outputs": [],
   "source": [
    "df['Current (A) '] = df['Current (A) '].str.replace(',','.').astype(float)"
   ]
  },
  {
   "cell_type": "code",
   "execution_count": 7,
   "id": "51268890",
   "metadata": {},
   "outputs": [],
   "source": [
    "df['Obs Number'] = 0"
   ]
  },
  {
   "cell_type": "code",
   "execution_count": 8,
   "id": "be447e46",
   "metadata": {},
   "outputs": [],
   "source": [
    "df = df.drop('Unnamed: 3', axis=1)"
   ]
  },
  {
   "cell_type": "code",
   "execution_count": 9,
   "id": "2fdf97a6",
   "metadata": {},
   "outputs": [
    {
     "data": {
      "text/html": [
       "<div>\n",
       "<style scoped>\n",
       "    .dataframe tbody tr th:only-of-type {\n",
       "        vertical-align: middle;\n",
       "    }\n",
       "\n",
       "    .dataframe tbody tr th {\n",
       "        vertical-align: top;\n",
       "    }\n",
       "\n",
       "    .dataframe thead th {\n",
       "        text-align: right;\n",
       "    }\n",
       "</style>\n",
       "<table border=\"1\" class=\"dataframe\">\n",
       "  <thead>\n",
       "    <tr style=\"text-align: right;\">\n",
       "      <th></th>\n",
       "      <th>Date</th>\n",
       "      <th>Command_door</th>\n",
       "      <th>Current (A)</th>\n",
       "      <th>Obs Number</th>\n",
       "    </tr>\n",
       "  </thead>\n",
       "  <tbody>\n",
       "    <tr>\n",
       "      <th>0</th>\n",
       "      <td>3/6/2024  14:51:20.58</td>\n",
       "      <td>COMMAND_CLOSE</td>\n",
       "      <td>0.567</td>\n",
       "      <td>0</td>\n",
       "    </tr>\n",
       "    <tr>\n",
       "      <th>1</th>\n",
       "      <td>3/6/2024  14:51:20.137</td>\n",
       "      <td>COMMAND_CLOSE</td>\n",
       "      <td>0.548</td>\n",
       "      <td>0</td>\n",
       "    </tr>\n",
       "    <tr>\n",
       "      <th>2</th>\n",
       "      <td>3/6/2024  14:51:20.313</td>\n",
       "      <td>COMMAND_CLOSE</td>\n",
       "      <td>0.547</td>\n",
       "      <td>0</td>\n",
       "    </tr>\n",
       "    <tr>\n",
       "      <th>3</th>\n",
       "      <td>3/6/2024  14:51:20.406</td>\n",
       "      <td>COMMAND_CLOSE</td>\n",
       "      <td>0.551</td>\n",
       "      <td>0</td>\n",
       "    </tr>\n",
       "    <tr>\n",
       "      <th>4</th>\n",
       "      <td>3/6/2024  14:51:20.483</td>\n",
       "      <td>COMMAND_CLOSE</td>\n",
       "      <td>0.560</td>\n",
       "      <td>0</td>\n",
       "    </tr>\n",
       "  </tbody>\n",
       "</table>\n",
       "</div>"
      ],
      "text/plain": [
       "                    Date   Command_door   Current (A)   Obs Number\n",
       "0   3/6/2024  14:51:20.58  COMMAND_CLOSE         0.567           0\n",
       "1  3/6/2024  14:51:20.137  COMMAND_CLOSE         0.548           0\n",
       "2  3/6/2024  14:51:20.313  COMMAND_CLOSE         0.547           0\n",
       "3  3/6/2024  14:51:20.406  COMMAND_CLOSE         0.551           0\n",
       "4  3/6/2024  14:51:20.483  COMMAND_CLOSE         0.560           0"
      ]
     },
     "execution_count": 9,
     "metadata": {},
     "output_type": "execute_result"
    }
   ],
   "source": [
    "df.head()"
   ]
  },
  {
   "cell_type": "code",
   "execution_count": 10,
   "id": "0c031331",
   "metadata": {},
   "outputs": [],
   "source": [
    "obs_number = 0"
   ]
  },
  {
   "cell_type": "code",
   "execution_count": 11,
   "id": "19ec0d7f",
   "metadata": {},
   "outputs": [
    {
     "data": {
      "text/plain": [
       "2193"
      ]
     },
     "execution_count": 11,
     "metadata": {},
     "output_type": "execute_result"
    }
   ],
   "source": [
    "len(df)"
   ]
  },
  {
   "cell_type": "code",
   "execution_count": 12,
   "id": "af4a582e",
   "metadata": {},
   "outputs": [],
   "source": [
    "for i in range(1,len(df)):\n",
    "    if df.loc[i,'Command_door '] != df.loc[i-1,'Command_door ']:\n",
    "        obs_number += 1\n",
    "    df.loc[i,'Obs Number'] = obs_number        \n",
    "    "
   ]
  },
  {
   "cell_type": "code",
   "execution_count": 13,
   "id": "c0e4ddef",
   "metadata": {},
   "outputs": [
    {
     "data": {
      "text/plain": [
       "array([ 0,  1,  2,  3,  4,  5,  6,  7,  8,  9, 10, 11, 12, 13, 14, 15, 16,\n",
       "       17, 18, 19, 20, 21, 22, 23, 24, 25, 26, 27, 28], dtype=int64)"
      ]
     },
     "execution_count": 13,
     "metadata": {},
     "output_type": "execute_result"
    }
   ],
   "source": [
    "# Valores sin repeticiones en la columna\n",
    "df['Obs Number'].unique()"
   ]
  },
  {
   "cell_type": "code",
   "execution_count": 14,
   "id": "5ed1f12b",
   "metadata": {},
   "outputs": [
    {
     "data": {
      "text/plain": [
       "array(['COMMAND_CLOSE', 'COMMAND_OPEN'], dtype=object)"
      ]
     },
     "execution_count": 14,
     "metadata": {},
     "output_type": "execute_result"
    }
   ],
   "source": [
    "df['Command_door '].unique()"
   ]
  },
  {
   "cell_type": "code",
   "execution_count": 15,
   "id": "d4320718",
   "metadata": {},
   "outputs": [],
   "source": [
    "close = df[df['Command_door '] == 'COMMAND_CLOSE' ]"
   ]
  },
  {
   "cell_type": "code",
   "execution_count": 16,
   "id": "021610e5",
   "metadata": {},
   "outputs": [
    {
     "data": {
      "text/html": [
       "<div>\n",
       "<style scoped>\n",
       "    .dataframe tbody tr th:only-of-type {\n",
       "        vertical-align: middle;\n",
       "    }\n",
       "\n",
       "    .dataframe tbody tr th {\n",
       "        vertical-align: top;\n",
       "    }\n",
       "\n",
       "    .dataframe thead th {\n",
       "        text-align: right;\n",
       "    }\n",
       "</style>\n",
       "<table border=\"1\" class=\"dataframe\">\n",
       "  <thead>\n",
       "    <tr style=\"text-align: right;\">\n",
       "      <th></th>\n",
       "      <th>Date</th>\n",
       "      <th>Command_door</th>\n",
       "      <th>Current (A)</th>\n",
       "      <th>Obs Number</th>\n",
       "    </tr>\n",
       "  </thead>\n",
       "  <tbody>\n",
       "    <tr>\n",
       "      <th>0</th>\n",
       "      <td>3/6/2024  14:51:20.58</td>\n",
       "      <td>COMMAND_CLOSE</td>\n",
       "      <td>0.567</td>\n",
       "      <td>0</td>\n",
       "    </tr>\n",
       "    <tr>\n",
       "      <th>1</th>\n",
       "      <td>3/6/2024  14:51:20.137</td>\n",
       "      <td>COMMAND_CLOSE</td>\n",
       "      <td>0.548</td>\n",
       "      <td>0</td>\n",
       "    </tr>\n",
       "    <tr>\n",
       "      <th>2</th>\n",
       "      <td>3/6/2024  14:51:20.313</td>\n",
       "      <td>COMMAND_CLOSE</td>\n",
       "      <td>0.547</td>\n",
       "      <td>0</td>\n",
       "    </tr>\n",
       "    <tr>\n",
       "      <th>3</th>\n",
       "      <td>3/6/2024  14:51:20.406</td>\n",
       "      <td>COMMAND_CLOSE</td>\n",
       "      <td>0.551</td>\n",
       "      <td>0</td>\n",
       "    </tr>\n",
       "    <tr>\n",
       "      <th>4</th>\n",
       "      <td>3/6/2024  14:51:20.483</td>\n",
       "      <td>COMMAND_CLOSE</td>\n",
       "      <td>0.560</td>\n",
       "      <td>0</td>\n",
       "    </tr>\n",
       "  </tbody>\n",
       "</table>\n",
       "</div>"
      ],
      "text/plain": [
       "                    Date   Command_door   Current (A)   Obs Number\n",
       "0   3/6/2024  14:51:20.58  COMMAND_CLOSE         0.567           0\n",
       "1  3/6/2024  14:51:20.137  COMMAND_CLOSE         0.548           0\n",
       "2  3/6/2024  14:51:20.313  COMMAND_CLOSE         0.547           0\n",
       "3  3/6/2024  14:51:20.406  COMMAND_CLOSE         0.551           0\n",
       "4  3/6/2024  14:51:20.483  COMMAND_CLOSE         0.560           0"
      ]
     },
     "execution_count": 16,
     "metadata": {},
     "output_type": "execute_result"
    }
   ],
   "source": [
    "close.head()"
   ]
  },
  {
   "cell_type": "code",
   "execution_count": 17,
   "id": "a85c9d63",
   "metadata": {},
   "outputs": [],
   "source": [
    "data = close.pivot_table(values = 'Current (A) ', aggfunc=['mean', 'median','std', 'min','max'], index='Obs Number')"
   ]
  },
  {
   "cell_type": "code",
   "execution_count": 18,
   "id": "7651e243",
   "metadata": {},
   "outputs": [
    {
     "data": {
      "text/html": [
       "<div>\n",
       "<style scoped>\n",
       "    .dataframe tbody tr th:only-of-type {\n",
       "        vertical-align: middle;\n",
       "    }\n",
       "\n",
       "    .dataframe tbody tr th {\n",
       "        vertical-align: top;\n",
       "    }\n",
       "\n",
       "    .dataframe thead tr th {\n",
       "        text-align: left;\n",
       "    }\n",
       "\n",
       "    .dataframe thead tr:last-of-type th {\n",
       "        text-align: right;\n",
       "    }\n",
       "</style>\n",
       "<table border=\"1\" class=\"dataframe\">\n",
       "  <thead>\n",
       "    <tr>\n",
       "      <th></th>\n",
       "      <th>mean</th>\n",
       "      <th>median</th>\n",
       "      <th>std</th>\n",
       "      <th>min</th>\n",
       "      <th>max</th>\n",
       "    </tr>\n",
       "    <tr>\n",
       "      <th></th>\n",
       "      <th>Current (A)</th>\n",
       "      <th>Current (A)</th>\n",
       "      <th>Current (A)</th>\n",
       "      <th>Current (A)</th>\n",
       "      <th>Current (A)</th>\n",
       "    </tr>\n",
       "    <tr>\n",
       "      <th>Obs Number</th>\n",
       "      <th></th>\n",
       "      <th></th>\n",
       "      <th></th>\n",
       "      <th></th>\n",
       "      <th></th>\n",
       "    </tr>\n",
       "  </thead>\n",
       "  <tbody>\n",
       "    <tr>\n",
       "      <th>0</th>\n",
       "      <td>0.547672</td>\n",
       "      <td>0.548</td>\n",
       "      <td>0.010250</td>\n",
       "      <td>0.506</td>\n",
       "      <td>0.569</td>\n",
       "    </tr>\n",
       "    <tr>\n",
       "      <th>2</th>\n",
       "      <td>0.566139</td>\n",
       "      <td>0.358</td>\n",
       "      <td>0.603041</td>\n",
       "      <td>-0.697</td>\n",
       "      <td>1.819</td>\n",
       "    </tr>\n",
       "    <tr>\n",
       "      <th>4</th>\n",
       "      <td>0.559519</td>\n",
       "      <td>0.485</td>\n",
       "      <td>0.645010</td>\n",
       "      <td>-1.122</td>\n",
       "      <td>1.819</td>\n",
       "    </tr>\n",
       "    <tr>\n",
       "      <th>6</th>\n",
       "      <td>0.474645</td>\n",
       "      <td>0.286</td>\n",
       "      <td>0.638256</td>\n",
       "      <td>-0.904</td>\n",
       "      <td>1.814</td>\n",
       "    </tr>\n",
       "    <tr>\n",
       "      <th>8</th>\n",
       "      <td>0.446937</td>\n",
       "      <td>0.304</td>\n",
       "      <td>0.689106</td>\n",
       "      <td>-1.390</td>\n",
       "      <td>1.848</td>\n",
       "    </tr>\n",
       "  </tbody>\n",
       "</table>\n",
       "</div>"
      ],
      "text/plain": [
       "                   mean       median          std          min          max\n",
       "           Current (A)  Current (A)  Current (A)  Current (A)  Current (A) \n",
       "Obs Number                                                                 \n",
       "0              0.547672        0.548     0.010250        0.506        0.569\n",
       "2              0.566139        0.358     0.603041       -0.697        1.819\n",
       "4              0.559519        0.485     0.645010       -1.122        1.819\n",
       "6              0.474645        0.286     0.638256       -0.904        1.814\n",
       "8              0.446937        0.304     0.689106       -1.390        1.848"
      ]
     },
     "execution_count": 18,
     "metadata": {},
     "output_type": "execute_result"
    }
   ],
   "source": [
    "data.head()"
   ]
  },
  {
   "cell_type": "code",
   "execution_count": 19,
   "id": "d02bdbeb",
   "metadata": {},
   "outputs": [],
   "source": [
    "X = pd.concat([data.head(), data.tail()])"
   ]
  },
  {
   "cell_type": "code",
   "execution_count": 20,
   "id": "2771111a",
   "metadata": {},
   "outputs": [
    {
     "data": {
      "text/html": [
       "<div>\n",
       "<style scoped>\n",
       "    .dataframe tbody tr th:only-of-type {\n",
       "        vertical-align: middle;\n",
       "    }\n",
       "\n",
       "    .dataframe tbody tr th {\n",
       "        vertical-align: top;\n",
       "    }\n",
       "\n",
       "    .dataframe thead tr th {\n",
       "        text-align: left;\n",
       "    }\n",
       "\n",
       "    .dataframe thead tr:last-of-type th {\n",
       "        text-align: right;\n",
       "    }\n",
       "</style>\n",
       "<table border=\"1\" class=\"dataframe\">\n",
       "  <thead>\n",
       "    <tr>\n",
       "      <th></th>\n",
       "      <th>mean</th>\n",
       "      <th>median</th>\n",
       "      <th>std</th>\n",
       "      <th>min</th>\n",
       "      <th>max</th>\n",
       "    </tr>\n",
       "    <tr>\n",
       "      <th></th>\n",
       "      <th>Current (A)</th>\n",
       "      <th>Current (A)</th>\n",
       "      <th>Current (A)</th>\n",
       "      <th>Current (A)</th>\n",
       "      <th>Current (A)</th>\n",
       "    </tr>\n",
       "    <tr>\n",
       "      <th>Obs Number</th>\n",
       "      <th></th>\n",
       "      <th></th>\n",
       "      <th></th>\n",
       "      <th></th>\n",
       "      <th></th>\n",
       "    </tr>\n",
       "  </thead>\n",
       "  <tbody>\n",
       "    <tr>\n",
       "      <th>0</th>\n",
       "      <td>0.547672</td>\n",
       "      <td>0.5480</td>\n",
       "      <td>0.010250</td>\n",
       "      <td>0.506</td>\n",
       "      <td>0.569</td>\n",
       "    </tr>\n",
       "    <tr>\n",
       "      <th>2</th>\n",
       "      <td>0.566139</td>\n",
       "      <td>0.3580</td>\n",
       "      <td>0.603041</td>\n",
       "      <td>-0.697</td>\n",
       "      <td>1.819</td>\n",
       "    </tr>\n",
       "    <tr>\n",
       "      <th>4</th>\n",
       "      <td>0.559519</td>\n",
       "      <td>0.4850</td>\n",
       "      <td>0.645010</td>\n",
       "      <td>-1.122</td>\n",
       "      <td>1.819</td>\n",
       "    </tr>\n",
       "    <tr>\n",
       "      <th>6</th>\n",
       "      <td>0.474645</td>\n",
       "      <td>0.2860</td>\n",
       "      <td>0.638256</td>\n",
       "      <td>-0.904</td>\n",
       "      <td>1.814</td>\n",
       "    </tr>\n",
       "    <tr>\n",
       "      <th>8</th>\n",
       "      <td>0.446937</td>\n",
       "      <td>0.3040</td>\n",
       "      <td>0.689106</td>\n",
       "      <td>-1.390</td>\n",
       "      <td>1.848</td>\n",
       "    </tr>\n",
       "    <tr>\n",
       "      <th>20</th>\n",
       "      <td>1.064522</td>\n",
       "      <td>1.1975</td>\n",
       "      <td>0.771661</td>\n",
       "      <td>-1.186</td>\n",
       "      <td>1.873</td>\n",
       "    </tr>\n",
       "    <tr>\n",
       "      <th>22</th>\n",
       "      <td>1.175400</td>\n",
       "      <td>1.3675</td>\n",
       "      <td>0.649127</td>\n",
       "      <td>-0.804</td>\n",
       "      <td>1.867</td>\n",
       "    </tr>\n",
       "    <tr>\n",
       "      <th>24</th>\n",
       "      <td>1.098318</td>\n",
       "      <td>1.3160</td>\n",
       "      <td>0.748465</td>\n",
       "      <td>-0.706</td>\n",
       "      <td>1.883</td>\n",
       "    </tr>\n",
       "    <tr>\n",
       "      <th>26</th>\n",
       "      <td>1.089419</td>\n",
       "      <td>1.1180</td>\n",
       "      <td>0.613186</td>\n",
       "      <td>-0.677</td>\n",
       "      <td>1.873</td>\n",
       "    </tr>\n",
       "    <tr>\n",
       "      <th>28</th>\n",
       "      <td>0.922557</td>\n",
       "      <td>0.7890</td>\n",
       "      <td>0.645240</td>\n",
       "      <td>-1.104</td>\n",
       "      <td>1.878</td>\n",
       "    </tr>\n",
       "  </tbody>\n",
       "</table>\n",
       "</div>"
      ],
      "text/plain": [
       "                   mean       median          std          min          max\n",
       "           Current (A)  Current (A)  Current (A)  Current (A)  Current (A) \n",
       "Obs Number                                                                 \n",
       "0              0.547672       0.5480     0.010250        0.506        0.569\n",
       "2              0.566139       0.3580     0.603041       -0.697        1.819\n",
       "4              0.559519       0.4850     0.645010       -1.122        1.819\n",
       "6              0.474645       0.2860     0.638256       -0.904        1.814\n",
       "8              0.446937       0.3040     0.689106       -1.390        1.848\n",
       "20             1.064522       1.1975     0.771661       -1.186        1.873\n",
       "22             1.175400       1.3675     0.649127       -0.804        1.867\n",
       "24             1.098318       1.3160     0.748465       -0.706        1.883\n",
       "26             1.089419       1.1180     0.613186       -0.677        1.873\n",
       "28             0.922557       0.7890     0.645240       -1.104        1.878"
      ]
     },
     "execution_count": 20,
     "metadata": {},
     "output_type": "execute_result"
    }
   ],
   "source": [
    "X"
   ]
  },
  {
   "cell_type": "code",
   "execution_count": 21,
   "id": "cfc62ed1",
   "metadata": {},
   "outputs": [],
   "source": [
    "y = np.array([0,0,0,0,0,1,1,1,1,1])"
   ]
  },
  {
   "cell_type": "markdown",
   "id": "32378bd6",
   "metadata": {},
   "source": [
    "# Red neuronal sencilla"
   ]
  },
  {
   "cell_type": "code",
   "execution_count": 22,
   "id": "950c7b92",
   "metadata": {},
   "outputs": [
    {
     "name": "stdout",
     "output_type": "stream",
     "text": [
      "WARNING:tensorflow:From C:\\Users\\HP\\AppData\\Local\\Programs\\Python\\Python310\\lib\\site-packages\\keras\\src\\backend.py:1398: The name tf.executing_eagerly_outside_functions is deprecated. Please use tf.compat.v1.executing_eagerly_outside_functions instead.\n",
      "\n"
     ]
    }
   ],
   "source": [
    "model = tf.keras.Sequential(\n",
    "    [\n",
    "     tf.keras.layers.InputLayer(input_shape=(X.shape[1],)),\n",
    "     tf.keras.layers.Dense(3),\n",
    "     tf.keras.layers.Dense(2, activation='softmax')   \n",
    "    ]\n",
    ")"
   ]
  },
  {
   "cell_type": "code",
   "execution_count": 23,
   "id": "2560b53f",
   "metadata": {},
   "outputs": [
    {
     "name": "stdout",
     "output_type": "stream",
     "text": [
      "WARNING:tensorflow:From C:\\Users\\HP\\AppData\\Local\\Programs\\Python\\Python310\\lib\\site-packages\\keras\\src\\optimizers\\__init__.py:309: The name tf.train.Optimizer is deprecated. Please use tf.compat.v1.train.Optimizer instead.\n",
      "\n"
     ]
    }
   ],
   "source": [
    "model.compile(loss='mse', metrics=['mae'])"
   ]
  },
  {
   "cell_type": "code",
   "execution_count": 24,
   "id": "956fb212",
   "metadata": {},
   "outputs": [
    {
     "name": "stdout",
     "output_type": "stream",
     "text": [
      "Model: \"sequential\"\n",
      "_________________________________________________________________\n",
      " Layer (type)                Output Shape              Param #   \n",
      "=================================================================\n",
      " dense (Dense)               (None, 3)                 18        \n",
      "                                                                 \n",
      " dense_1 (Dense)             (None, 2)                 8         \n",
      "                                                                 \n",
      "=================================================================\n",
      "Total params: 26 (104.00 Byte)\n",
      "Trainable params: 26 (104.00 Byte)\n",
      "Non-trainable params: 0 (0.00 Byte)\n",
      "_________________________________________________________________\n"
     ]
    }
   ],
   "source": [
    "model.summary()"
   ]
  },
  {
   "cell_type": "code",
   "execution_count": 25,
   "id": "dc75f8d5",
   "metadata": {},
   "outputs": [],
   "source": [
    "X = X.values.reshape(X.shape[0], X.shape[1], 1)"
   ]
  },
  {
   "cell_type": "code",
   "execution_count": 26,
   "id": "9d1e0a13",
   "metadata": {},
   "outputs": [
    {
     "name": "stdout",
     "output_type": "stream",
     "text": [
      "Epoch 1/100\n",
      "WARNING:tensorflow:From C:\\Users\\HP\\AppData\\Local\\Programs\\Python\\Python310\\lib\\site-packages\\keras\\src\\utils\\tf_utils.py:492: The name tf.ragged.RaggedTensorValue is deprecated. Please use tf.compat.v1.ragged.RaggedTensorValue instead.\n",
      "\n",
      "WARNING:tensorflow:From C:\\Users\\HP\\AppData\\Local\\Programs\\Python\\Python310\\lib\\site-packages\\keras\\src\\engine\\base_layer_utils.py:384: The name tf.executing_eagerly_outside_functions is deprecated. Please use tf.compat.v1.executing_eagerly_outside_functions instead.\n",
      "\n",
      "1/1 [==============================] - 1s 837ms/step - loss: 0.4631 - mae: 0.5000\n",
      "Epoch 2/100\n",
      "1/1 [==============================] - 0s 13ms/step - loss: 0.4617 - mae: 0.5000\n",
      "Epoch 3/100\n",
      "1/1 [==============================] - 0s 16ms/step - loss: 0.4606 - mae: 0.5000\n",
      "Epoch 4/100\n",
      "1/1 [==============================] - 0s 16ms/step - loss: 0.4596 - mae: 0.5000\n",
      "Epoch 5/100\n",
      "1/1 [==============================] - 0s 12ms/step - loss: 0.4587 - mae: 0.5000\n",
      "Epoch 6/100\n",
      "1/1 [==============================] - 0s 12ms/step - loss: 0.4578 - mae: 0.5000\n",
      "Epoch 7/100\n",
      "1/1 [==============================] - 0s 11ms/step - loss: 0.4569 - mae: 0.5000\n",
      "Epoch 8/100\n",
      "1/1 [==============================] - 0s 12ms/step - loss: 0.4561 - mae: 0.5000\n",
      "Epoch 9/100\n",
      "1/1 [==============================] - 0s 12ms/step - loss: 0.4553 - mae: 0.5000\n",
      "Epoch 10/100\n",
      "1/1 [==============================] - 0s 13ms/step - loss: 0.4544 - mae: 0.5000\n",
      "Epoch 11/100\n",
      "1/1 [==============================] - 0s 14ms/step - loss: 0.4536 - mae: 0.5000\n",
      "Epoch 12/100\n",
      "1/1 [==============================] - 0s 11ms/step - loss: 0.4528 - mae: 0.5000\n",
      "Epoch 13/100\n",
      "1/1 [==============================] - 0s 12ms/step - loss: 0.4519 - mae: 0.5000\n",
      "Epoch 14/100\n",
      "1/1 [==============================] - 0s 12ms/step - loss: 0.4511 - mae: 0.5000\n",
      "Epoch 15/100\n",
      "1/1 [==============================] - 0s 12ms/step - loss: 0.4502 - mae: 0.5000\n",
      "Epoch 16/100\n",
      "1/1 [==============================] - 0s 12ms/step - loss: 0.4493 - mae: 0.5000\n",
      "Epoch 17/100\n",
      "1/1 [==============================] - 0s 12ms/step - loss: 0.4484 - mae: 0.5000\n",
      "Epoch 18/100\n",
      "1/1 [==============================] - 0s 12ms/step - loss: 0.4475 - mae: 0.5000\n",
      "Epoch 19/100\n",
      "1/1 [==============================] - 0s 11ms/step - loss: 0.4466 - mae: 0.5000\n",
      "Epoch 20/100\n",
      "1/1 [==============================] - 0s 11ms/step - loss: 0.4457 - mae: 0.5000\n",
      "Epoch 21/100\n",
      "1/1 [==============================] - 0s 12ms/step - loss: 0.4447 - mae: 0.5000\n",
      "Epoch 22/100\n",
      "1/1 [==============================] - 0s 11ms/step - loss: 0.4438 - mae: 0.5000\n",
      "Epoch 23/100\n",
      "1/1 [==============================] - 0s 13ms/step - loss: 0.4428 - mae: 0.5000\n",
      "Epoch 24/100\n",
      "1/1 [==============================] - 0s 11ms/step - loss: 0.4418 - mae: 0.5000\n",
      "Epoch 25/100\n",
      "1/1 [==============================] - 0s 11ms/step - loss: 0.4407 - mae: 0.5000\n",
      "Epoch 26/100\n",
      "1/1 [==============================] - 0s 13ms/step - loss: 0.4397 - mae: 0.5000\n",
      "Epoch 27/100\n",
      "1/1 [==============================] - 0s 13ms/step - loss: 0.4386 - mae: 0.5000\n",
      "Epoch 28/100\n",
      "1/1 [==============================] - 0s 12ms/step - loss: 0.4375 - mae: 0.5000\n",
      "Epoch 29/100\n",
      "1/1 [==============================] - 0s 13ms/step - loss: 0.4364 - mae: 0.5000\n",
      "Epoch 30/100\n",
      "1/1 [==============================] - 0s 12ms/step - loss: 0.4352 - mae: 0.5000\n",
      "Epoch 31/100\n",
      "1/1 [==============================] - 0s 11ms/step - loss: 0.4341 - mae: 0.5000\n",
      "Epoch 32/100\n",
      "1/1 [==============================] - 0s 12ms/step - loss: 0.4329 - mae: 0.5000\n",
      "Epoch 33/100\n",
      "1/1 [==============================] - 0s 12ms/step - loss: 0.4317 - mae: 0.5000\n",
      "Epoch 34/100\n",
      "1/1 [==============================] - 0s 11ms/step - loss: 0.4305 - mae: 0.5000\n",
      "Epoch 35/100\n",
      "1/1 [==============================] - 0s 11ms/step - loss: 0.4292 - mae: 0.5000\n",
      "Epoch 36/100\n",
      "1/1 [==============================] - 0s 12ms/step - loss: 0.4279 - mae: 0.5000\n",
      "Epoch 37/100\n",
      "1/1 [==============================] - 0s 13ms/step - loss: 0.4266 - mae: 0.5000\n",
      "Epoch 38/100\n",
      "1/1 [==============================] - 0s 14ms/step - loss: 0.4253 - mae: 0.5000\n",
      "Epoch 39/100\n",
      "1/1 [==============================] - 0s 12ms/step - loss: 0.4239 - mae: 0.5000\n",
      "Epoch 40/100\n",
      "1/1 [==============================] - 0s 12ms/step - loss: 0.4225 - mae: 0.5000\n",
      "Epoch 41/100\n",
      "1/1 [==============================] - 0s 11ms/step - loss: 0.4211 - mae: 0.5000\n",
      "Epoch 42/100\n",
      "1/1 [==============================] - 0s 12ms/step - loss: 0.4196 - mae: 0.5000\n",
      "Epoch 43/100\n",
      "1/1 [==============================] - 0s 12ms/step - loss: 0.4182 - mae: 0.5000\n",
      "Epoch 44/100\n",
      "1/1 [==============================] - 0s 11ms/step - loss: 0.4167 - mae: 0.5000\n",
      "Epoch 45/100\n",
      "1/1 [==============================] - 0s 10ms/step - loss: 0.4151 - mae: 0.5000\n",
      "Epoch 46/100\n",
      "1/1 [==============================] - 0s 13ms/step - loss: 0.4136 - mae: 0.5000\n",
      "Epoch 47/100\n",
      "1/1 [==============================] - 0s 11ms/step - loss: 0.4120 - mae: 0.5000\n",
      "Epoch 48/100\n",
      "1/1 [==============================] - 0s 12ms/step - loss: 0.4104 - mae: 0.5000\n",
      "Epoch 49/100\n",
      "1/1 [==============================] - 0s 12ms/step - loss: 0.4088 - mae: 0.5000\n",
      "Epoch 50/100\n",
      "1/1 [==============================] - 0s 11ms/step - loss: 0.4071 - mae: 0.5000\n",
      "Epoch 51/100\n",
      "1/1 [==============================] - 0s 9ms/step - loss: 0.4054 - mae: 0.5000\n",
      "Epoch 52/100\n",
      "1/1 [==============================] - 0s 11ms/step - loss: 0.4037 - mae: 0.5000\n",
      "Epoch 53/100\n",
      "1/1 [==============================] - 0s 10ms/step - loss: 0.4019 - mae: 0.5000\n",
      "Epoch 54/100\n",
      "1/1 [==============================] - 0s 11ms/step - loss: 0.4002 - mae: 0.5000\n",
      "Epoch 55/100\n",
      "1/1 [==============================] - 0s 9ms/step - loss: 0.3984 - mae: 0.5000\n",
      "Epoch 56/100\n",
      "1/1 [==============================] - 0s 11ms/step - loss: 0.3966 - mae: 0.5000\n",
      "Epoch 57/100\n",
      "1/1 [==============================] - 0s 10ms/step - loss: 0.3947 - mae: 0.5000\n",
      "Epoch 58/100\n",
      "1/1 [==============================] - 0s 9ms/step - loss: 0.3928 - mae: 0.5000\n",
      "Epoch 59/100\n",
      "1/1 [==============================] - 0s 10ms/step - loss: 0.3909 - mae: 0.5000\n",
      "Epoch 60/100\n",
      "1/1 [==============================] - 0s 26ms/step - loss: 0.3890 - mae: 0.5000\n",
      "Epoch 61/100\n",
      "1/1 [==============================] - 0s 10ms/step - loss: 0.3870 - mae: 0.5000\n",
      "Epoch 62/100\n",
      "1/1 [==============================] - 0s 8ms/step - loss: 0.3851 - mae: 0.5000\n",
      "Epoch 63/100\n",
      "1/1 [==============================] - 0s 9ms/step - loss: 0.3831 - mae: 0.5000\n",
      "Epoch 64/100\n",
      "1/1 [==============================] - 0s 9ms/step - loss: 0.3810 - mae: 0.5000\n",
      "Epoch 65/100\n",
      "1/1 [==============================] - 0s 10ms/step - loss: 0.3790 - mae: 0.5000\n",
      "Epoch 66/100\n",
      "1/1 [==============================] - 0s 10ms/step - loss: 0.3769 - mae: 0.5000\n",
      "Epoch 67/100\n",
      "1/1 [==============================] - 0s 10ms/step - loss: 0.3749 - mae: 0.5000\n",
      "Epoch 68/100\n",
      "1/1 [==============================] - 0s 11ms/step - loss: 0.3727 - mae: 0.5000\n",
      "Epoch 69/100\n",
      "1/1 [==============================] - 0s 11ms/step - loss: 0.3706 - mae: 0.5000\n",
      "Epoch 70/100\n",
      "1/1 [==============================] - 0s 10ms/step - loss: 0.3685 - mae: 0.5000\n",
      "Epoch 71/100\n",
      "1/1 [==============================] - 0s 11ms/step - loss: 0.3663 - mae: 0.5000\n",
      "Epoch 72/100\n",
      "1/1 [==============================] - 0s 11ms/step - loss: 0.3642 - mae: 0.5000\n",
      "Epoch 73/100\n",
      "1/1 [==============================] - 0s 10ms/step - loss: 0.3620 - mae: 0.5000\n",
      "Epoch 74/100\n",
      "1/1 [==============================] - 0s 10ms/step - loss: 0.3598 - mae: 0.5000\n",
      "Epoch 75/100\n",
      "1/1 [==============================] - 0s 9ms/step - loss: 0.3576 - mae: 0.5000\n",
      "Epoch 76/100\n",
      "1/1 [==============================] - 0s 11ms/step - loss: 0.3553 - mae: 0.5000\n",
      "Epoch 77/100\n",
      "1/1 [==============================] - 0s 10ms/step - loss: 0.3531 - mae: 0.5000\n",
      "Epoch 78/100\n",
      "1/1 [==============================] - 0s 10ms/step - loss: 0.3509 - mae: 0.5000\n",
      "Epoch 79/100\n",
      "1/1 [==============================] - 0s 10ms/step - loss: 0.3486 - mae: 0.5000\n",
      "Epoch 80/100\n",
      "1/1 [==============================] - 0s 10ms/step - loss: 0.3464 - mae: 0.5000\n",
      "Epoch 81/100\n",
      "1/1 [==============================] - 0s 9ms/step - loss: 0.3441 - mae: 0.5000\n",
      "Epoch 82/100\n",
      "1/1 [==============================] - 0s 10ms/step - loss: 0.3419 - mae: 0.5000\n",
      "Epoch 83/100\n",
      "1/1 [==============================] - 0s 9ms/step - loss: 0.3396 - mae: 0.5000\n",
      "Epoch 84/100\n",
      "1/1 [==============================] - 0s 9ms/step - loss: 0.3374 - mae: 0.5000\n",
      "Epoch 85/100\n",
      "1/1 [==============================] - 0s 11ms/step - loss: 0.3351 - mae: 0.5000\n",
      "Epoch 86/100\n",
      "1/1 [==============================] - 0s 10ms/step - loss: 0.3329 - mae: 0.5000\n",
      "Epoch 87/100\n",
      "1/1 [==============================] - 0s 10ms/step - loss: 0.3306 - mae: 0.5000\n",
      "Epoch 88/100\n",
      "1/1 [==============================] - 0s 10ms/step - loss: 0.3284 - mae: 0.5000\n",
      "Epoch 89/100\n",
      "1/1 [==============================] - 0s 11ms/step - loss: 0.3262 - mae: 0.5000\n",
      "Epoch 90/100\n",
      "1/1 [==============================] - 0s 9ms/step - loss: 0.3240 - mae: 0.5000\n",
      "Epoch 91/100\n",
      "1/1 [==============================] - 0s 11ms/step - loss: 0.3218 - mae: 0.5000\n",
      "Epoch 92/100\n",
      "1/1 [==============================] - 0s 11ms/step - loss: 0.3196 - mae: 0.5000\n",
      "Epoch 93/100\n",
      "1/1 [==============================] - 0s 10ms/step - loss: 0.3174 - mae: 0.5000\n",
      "Epoch 94/100\n",
      "1/1 [==============================] - 0s 11ms/step - loss: 0.3153 - mae: 0.5000\n",
      "Epoch 95/100\n",
      "1/1 [==============================] - 0s 10ms/step - loss: 0.3132 - mae: 0.5000\n",
      "Epoch 96/100\n",
      "1/1 [==============================] - 0s 10ms/step - loss: 0.3111 - mae: 0.5000\n",
      "Epoch 97/100\n",
      "1/1 [==============================] - 0s 9ms/step - loss: 0.3090 - mae: 0.5000\n",
      "Epoch 98/100\n",
      "1/1 [==============================] - 0s 12ms/step - loss: 0.3069 - mae: 0.5000\n",
      "Epoch 99/100\n",
      "1/1 [==============================] - 0s 12ms/step - loss: 0.3049 - mae: 0.5000\n",
      "Epoch 100/100\n",
      "1/1 [==============================] - 0s 9ms/step - loss: 0.3029 - mae: 0.5000\n"
     ]
    },
    {
     "data": {
      "text/plain": [
       "<keras.src.callbacks.History at 0x25ed3c71b40>"
      ]
     },
     "execution_count": 26,
     "metadata": {},
     "output_type": "execute_result"
    }
   ],
   "source": [
    "model.fit(X,y, epochs=100)"
   ]
  },
  {
   "cell_type": "code",
   "execution_count": 27,
   "id": "36c5420d",
   "metadata": {},
   "outputs": [
    {
     "name": "stdout",
     "output_type": "stream",
     "text": [
      "1/1 [==============================] - 0s 212ms/step - loss: 0.3009 - mae: 0.5000\n"
     ]
    }
   ],
   "source": [
    "loss, accuraccy = model.evaluate(X,y)"
   ]
  },
  {
   "cell_type": "code",
   "execution_count": 28,
   "id": "754abc07",
   "metadata": {},
   "outputs": [
    {
     "data": {
      "text/plain": [
       "0.300913006067276"
      ]
     },
     "execution_count": 28,
     "metadata": {},
     "output_type": "execute_result"
    }
   ],
   "source": [
    "loss"
   ]
  },
  {
   "cell_type": "code",
   "execution_count": 29,
   "id": "523aa4a7",
   "metadata": {},
   "outputs": [
    {
     "data": {
      "text/plain": [
       "0.5"
      ]
     },
     "execution_count": 29,
     "metadata": {},
     "output_type": "execute_result"
    }
   ],
   "source": [
    "accuraccy"
   ]
  },
  {
   "cell_type": "code",
   "execution_count": 30,
   "id": "162c7630",
   "metadata": {},
   "outputs": [
    {
     "name": "stdout",
     "output_type": "stream",
     "text": [
      "1/1 [==============================] - 0s 105ms/step\n"
     ]
    }
   ],
   "source": [
    "y_pred_proba = model.predict(X)"
   ]
  },
  {
   "cell_type": "code",
   "execution_count": 31,
   "id": "88c50bd8",
   "metadata": {},
   "outputs": [],
   "source": [
    "y_pred = y_pred_proba.argmax(axis=1)"
   ]
  },
  {
   "cell_type": "code",
   "execution_count": 32,
   "id": "bbe58191",
   "metadata": {},
   "outputs": [
    {
     "data": {
      "text/plain": [
       "array([1, 0, 0, 0, 0, 0, 0, 0, 0, 0], dtype=int64)"
      ]
     },
     "execution_count": 32,
     "metadata": {},
     "output_type": "execute_result"
    }
   ],
   "source": [
    "y_pred"
   ]
  },
  {
   "cell_type": "code",
   "execution_count": 33,
   "id": "75db8213",
   "metadata": {},
   "outputs": [
    {
     "data": {
      "text/plain": [
       "array([0, 0, 0, 0, 0, 1, 1, 1, 1, 1])"
      ]
     },
     "execution_count": 33,
     "metadata": {},
     "output_type": "execute_result"
    }
   ],
   "source": [
    "y"
   ]
  },
  {
   "cell_type": "code",
   "execution_count": null,
   "id": "d711bcc7",
   "metadata": {},
   "outputs": [],
   "source": []
  }
 ],
 "metadata": {
  "kernelspec": {
   "display_name": "Python 3 (ipykernel)",
   "language": "python",
   "name": "python3"
  },
  "language_info": {
   "codemirror_mode": {
    "name": "ipython",
    "version": 3
   },
   "file_extension": ".py",
   "mimetype": "text/x-python",
   "name": "python",
   "nbconvert_exporter": "python",
   "pygments_lexer": "ipython3",
   "version": "3.10.4"
  }
 },
 "nbformat": 4,
 "nbformat_minor": 5
}
