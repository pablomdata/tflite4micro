{
 "cells": [
  {
   "cell_type": "code",
   "execution_count": 1,
   "id": "e01ac6d1-77f5-4784-b0ff-806c3963ea76",
   "metadata": {},
   "outputs": [
    {
     "name": "stdout",
     "output_type": "stream",
     "text": [
      "WARNING:tensorflow:From C:\\Users\\HP\\AppData\\Local\\Programs\\Python\\Python310\\lib\\site-packages\\keras\\src\\losses.py:2976: The name tf.losses.sparse_softmax_cross_entropy is deprecated. Please use tf.compat.v1.losses.sparse_softmax_cross_entropy instead.\n",
      "\n"
     ]
    }
   ],
   "source": [
    "import pandas as pd\n",
    "import numpy as np\n",
    "import tensorflow as tf"
   ]
  },
  {
   "cell_type": "code",
   "execution_count": 2,
   "id": "a8c2989d-8957-416b-abc0-88fe74f451e0",
   "metadata": {},
   "outputs": [],
   "source": [
    "model_path = \"models/ford_model.tflite\""
   ]
  },
  {
   "cell_type": "code",
   "execution_count": 3,
   "id": "3c980959-2fdd-44f9-9769-9b0edede4a1b",
   "metadata": {},
   "outputs": [],
   "source": [
    "df = pd.read_csv(\"./data/ford_test.tsv\", sep=\"\\t\", header=None)\n",
    "\n",
    "inputs = df.iloc[:, 1:]\n",
    "outputs = df.iloc[:,0]\n",
    "\n",
    "inputs = np.array(inputs)\n",
    "outputs = np.array(outputs)"
   ]
  },
  {
   "cell_type": "code",
   "execution_count": 4,
   "id": "db2dbcc3-cdbf-414f-8243-6e3749e4fb2a",
   "metadata": {},
   "outputs": [],
   "source": [
    "interpreter = tf.lite.Interpreter(model_path=model_path)\n",
    "interpreter.allocate_tensors()\n",
    "\n",
    "input_index = interpreter.get_input_details()[0][\"index\"]\n",
    "output_index = interpreter.get_output_details()[0][\"index\"]\n",
    "\n",
    "preds = []\n",
    "\n",
    "for input_data in inputs:\n",
    "    input_data = input_data.astype(np.float32).reshape(1,-1)\n",
    "    interpreter.set_tensor(input_index, input_data)\n",
    "    interpreter.invoke()\n",
    "    pred = interpreter.get_tensor(output_index)\n",
    "    label = np.argmax(pred)\n",
    "    preds.append(label)"
   ]
  },
  {
   "cell_type": "code",
   "execution_count": 5,
   "id": "2a098982-7094-41a1-91ad-7a03f4d2d0de",
   "metadata": {},
   "outputs": [
    {
     "data": {
      "text/plain": [
       "0.5371212121212121"
      ]
     },
     "execution_count": 5,
     "metadata": {},
     "output_type": "execute_result"
    }
   ],
   "source": [
    "np.sum(preds-outputs)/len(outputs)"
   ]
  },
  {
   "cell_type": "code",
   "execution_count": null,
   "id": "cc3faf91-7b37-4f2c-b22c-2df183662b30",
   "metadata": {},
   "outputs": [],
   "source": []
  }
 ],
 "metadata": {
  "kernelspec": {
   "display_name": "Python 3 (ipykernel)",
   "language": "python",
   "name": "python3"
  },
  "language_info": {
   "codemirror_mode": {
    "name": "ipython",
    "version": 3
   },
   "file_extension": ".py",
   "mimetype": "text/x-python",
   "name": "python",
   "nbconvert_exporter": "python",
   "pygments_lexer": "ipython3",
   "version": "3.10.4"
  }
 },
 "nbformat": 4,
 "nbformat_minor": 5
}
