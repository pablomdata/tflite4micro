{
 "cells": [
  {
   "cell_type": "code",
   "execution_count": null,
   "id": "54634be3",
   "metadata": {},
   "outputs": [],
   "source": [
    "import pandas"
   ]
  },
  {
   "cell_type": "markdown",
   "id": "677d9dc0",
   "metadata": {},
   "source": [
    "# Titulo\n",
    "## Subtitulo\n",
    "\n",
    "*hola*\n",
    "**hola**\n",
    "\n",
    "- uno\n",
    "- dos\n"
   ]
  },
  {
   "cell_type": "markdown",
   "id": "9f99fc2d",
   "metadata": {},
   "source": [
    "# Estructuras de datos en Python"
   ]
  },
  {
   "cell_type": "code",
   "execution_count": 5,
   "id": "65cee5be",
   "metadata": {},
   "outputs": [],
   "source": [
    "example = 123"
   ]
  },
  {
   "cell_type": "code",
   "execution_count": 7,
   "id": "cf31b5ae",
   "metadata": {},
   "outputs": [],
   "source": [
    "example = '\"123\"'"
   ]
  },
  {
   "cell_type": "code",
   "execution_count": 8,
   "id": "a0da0327",
   "metadata": {},
   "outputs": [
    {
     "data": {
      "text/plain": [
       "'\"123\"'"
      ]
     },
     "execution_count": 8,
     "metadata": {},
     "output_type": "execute_result"
    }
   ],
   "source": [
    "example"
   ]
  },
  {
   "cell_type": "code",
   "execution_count": 9,
   "id": "40800fe3",
   "metadata": {},
   "outputs": [],
   "source": [
    "another_example = 'pablo'"
   ]
  },
  {
   "cell_type": "code",
   "execution_count": 10,
   "id": "c2bd9286",
   "metadata": {},
   "outputs": [
    {
     "data": {
      "text/plain": [
       "'\"123\"pablo'"
      ]
     },
     "execution_count": 10,
     "metadata": {},
     "output_type": "execute_result"
    }
   ],
   "source": [
    "example + another_example"
   ]
  },
  {
   "cell_type": "code",
   "execution_count": 11,
   "id": "9c913366",
   "metadata": {},
   "outputs": [
    {
     "data": {
      "text/plain": [
       "'p'"
      ]
     },
     "execution_count": 11,
     "metadata": {},
     "output_type": "execute_result"
    }
   ],
   "source": [
    "another_example[0]"
   ]
  },
  {
   "cell_type": "code",
   "execution_count": 12,
   "id": "02ce27ec",
   "metadata": {},
   "outputs": [
    {
     "data": {
      "text/plain": [
       "'o'"
      ]
     },
     "execution_count": 12,
     "metadata": {},
     "output_type": "execute_result"
    }
   ],
   "source": [
    "another_example[-1]"
   ]
  },
  {
   "cell_type": "code",
   "execution_count": 13,
   "id": "5655759b",
   "metadata": {},
   "outputs": [
    {
     "data": {
      "text/plain": [
       "5"
      ]
     },
     "execution_count": 13,
     "metadata": {},
     "output_type": "execute_result"
    }
   ],
   "source": [
    "len(another_example)"
   ]
  },
  {
   "cell_type": "code",
   "execution_count": 16,
   "id": "263485e4",
   "metadata": {},
   "outputs": [
    {
     "data": {
      "text/plain": [
       "'ab'"
      ]
     },
     "execution_count": 16,
     "metadata": {},
     "output_type": "execute_result"
    }
   ],
   "source": [
    "another_example[1:3]"
   ]
  },
  {
   "cell_type": "code",
   "execution_count": 17,
   "id": "51d14c03",
   "metadata": {},
   "outputs": [
    {
     "data": {
      "text/plain": [
       "'pablo'"
      ]
     },
     "execution_count": 17,
     "metadata": {},
     "output_type": "execute_result"
    }
   ],
   "source": [
    "another_example"
   ]
  },
  {
   "cell_type": "code",
   "execution_count": 18,
   "id": "a7041bf6",
   "metadata": {},
   "outputs": [
    {
     "data": {
      "text/plain": [
       "0.6666666666666666"
      ]
     },
     "execution_count": 18,
     "metadata": {},
     "output_type": "execute_result"
    }
   ],
   "source": [
    "2/3"
   ]
  },
  {
   "cell_type": "code",
   "execution_count": 19,
   "id": "ba18b653",
   "metadata": {},
   "outputs": [
    {
     "data": {
      "text/plain": [
       "0"
      ]
     },
     "execution_count": 19,
     "metadata": {},
     "output_type": "execute_result"
    }
   ],
   "source": [
    "2//3"
   ]
  },
  {
   "cell_type": "code",
   "execution_count": 20,
   "id": "fdee6b57",
   "metadata": {},
   "outputs": [
    {
     "data": {
      "text/plain": [
       "float"
      ]
     },
     "execution_count": 20,
     "metadata": {},
     "output_type": "execute_result"
    }
   ],
   "source": [
    "type(2/3)"
   ]
  },
  {
   "cell_type": "code",
   "execution_count": 21,
   "id": "13ee4be5",
   "metadata": {},
   "outputs": [
    {
     "data": {
      "text/plain": [
       "(6, -1, 5)"
      ]
     },
     "execution_count": 21,
     "metadata": {},
     "output_type": "execute_result"
    }
   ],
   "source": [
    "2*3, 2-3, 2+3"
   ]
  },
  {
   "cell_type": "code",
   "execution_count": 22,
   "id": "d28e3724",
   "metadata": {},
   "outputs": [
    {
     "data": {
      "text/plain": [
       "8"
      ]
     },
     "execution_count": 22,
     "metadata": {},
     "output_type": "execute_result"
    }
   ],
   "source": [
    "2**3"
   ]
  },
  {
   "cell_type": "markdown",
   "id": "ecfa053f",
   "metadata": {},
   "source": [
    "# Contenedores"
   ]
  },
  {
   "cell_type": "markdown",
   "id": "8419c40b",
   "metadata": {},
   "source": [
    "## Listas (List)"
   ]
  },
  {
   "cell_type": "code",
   "execution_count": 23,
   "id": "be2a095c",
   "metadata": {},
   "outputs": [],
   "source": [
    "names = ['fernando', 'carmelo', 'marc', 'joan']"
   ]
  },
  {
   "cell_type": "code",
   "execution_count": 24,
   "id": "fd26d770",
   "metadata": {},
   "outputs": [
    {
     "data": {
      "text/plain": [
       "'fernando'"
      ]
     },
     "execution_count": 24,
     "metadata": {},
     "output_type": "execute_result"
    }
   ],
   "source": [
    "names[0]"
   ]
  },
  {
   "cell_type": "code",
   "execution_count": 25,
   "id": "72e9c21d",
   "metadata": {},
   "outputs": [],
   "source": [
    "names[0] = 'pablo'"
   ]
  },
  {
   "cell_type": "code",
   "execution_count": 26,
   "id": "18b59551",
   "metadata": {},
   "outputs": [
    {
     "data": {
      "text/plain": [
       "['pablo', 'carmelo', 'marc', 'joan']"
      ]
     },
     "execution_count": 26,
     "metadata": {},
     "output_type": "execute_result"
    }
   ],
   "source": [
    "names"
   ]
  },
  {
   "cell_type": "markdown",
   "id": "22a41670",
   "metadata": {},
   "source": [
    "## Tuplas (Tuple)"
   ]
  },
  {
   "cell_type": "code",
   "execution_count": 27,
   "id": "31bf20ac",
   "metadata": {},
   "outputs": [],
   "source": [
    "ages = (34, 40, 43)"
   ]
  },
  {
   "cell_type": "code",
   "execution_count": 29,
   "id": "27ee3d32",
   "metadata": {},
   "outputs": [
    {
     "data": {
      "text/plain": [
       "34"
      ]
     },
     "execution_count": 29,
     "metadata": {},
     "output_type": "execute_result"
    }
   ],
   "source": [
    "ages[0]"
   ]
  },
  {
   "cell_type": "code",
   "execution_count": 30,
   "id": "2dd3e8af",
   "metadata": {},
   "outputs": [
    {
     "ename": "TypeError",
     "evalue": "'tuple' object does not support item assignment",
     "output_type": "error",
     "traceback": [
      "\u001b[1;31m---------------------------------------------------------------------------\u001b[0m",
      "\u001b[1;31mTypeError\u001b[0m                                 Traceback (most recent call last)",
      "Input \u001b[1;32mIn [30]\u001b[0m, in \u001b[0;36m<cell line: 1>\u001b[1;34m()\u001b[0m\n\u001b[1;32m----> 1\u001b[0m ages[\u001b[38;5;241m0\u001b[39m] \u001b[38;5;241m=\u001b[39m \u001b[38;5;241m12\u001b[39m\n",
      "\u001b[1;31mTypeError\u001b[0m: 'tuple' object does not support item assignment"
     ]
    }
   ],
   "source": [
    "ages[0] = 12"
   ]
  },
  {
   "cell_type": "code",
   "execution_count": 35,
   "id": "08fe4055",
   "metadata": {},
   "outputs": [],
   "source": [
    "info = [('pablo', 'maldo'), 40, ['mexico','cz'], 123456.87]"
   ]
  },
  {
   "cell_type": "code",
   "execution_count": 36,
   "id": "7691ca8a",
   "metadata": {},
   "outputs": [
    {
     "data": {
      "text/plain": [
       "[('pablo', 'maldo'), 40, ['mexico', 'cz'], 123456.87]"
      ]
     },
     "execution_count": 36,
     "metadata": {},
     "output_type": "execute_result"
    }
   ],
   "source": [
    "info"
   ]
  },
  {
   "cell_type": "code",
   "execution_count": 38,
   "id": "876dff99",
   "metadata": {},
   "outputs": [],
   "source": [
    "info[0] = 123.45"
   ]
  },
  {
   "cell_type": "code",
   "execution_count": 39,
   "id": "7d486bc8",
   "metadata": {},
   "outputs": [
    {
     "data": {
      "text/plain": [
       "[123.45, 40, ['mexico', 'cz'], 123456.87]"
      ]
     },
     "execution_count": 39,
     "metadata": {},
     "output_type": "execute_result"
    }
   ],
   "source": [
    "info"
   ]
  },
  {
   "cell_type": "code",
   "execution_count": 43,
   "id": "88960660",
   "metadata": {},
   "outputs": [
    {
     "data": {
      "text/plain": [
       "'mexico'"
      ]
     },
     "execution_count": 43,
     "metadata": {},
     "output_type": "execute_result"
    }
   ],
   "source": [
    "info[2][0]"
   ]
  },
  {
   "cell_type": "code",
   "execution_count": 44,
   "id": "ff98ceed",
   "metadata": {},
   "outputs": [],
   "source": [
    "info = 'asd'"
   ]
  },
  {
   "cell_type": "markdown",
   "id": "4254f648",
   "metadata": {},
   "source": [
    "## Diccionario (Dictionary)"
   ]
  },
  {
   "cell_type": "code",
   "execution_count": 45,
   "id": "34225786",
   "metadata": {},
   "outputs": [],
   "source": [
    "people = {'fernando':['reus',2], 'pablo':['praga',2]}"
   ]
  },
  {
   "cell_type": "code",
   "execution_count": 47,
   "id": "97d90110",
   "metadata": {},
   "outputs": [
    {
     "data": {
      "text/plain": [
       "['reus', 2]"
      ]
     },
     "execution_count": 47,
     "metadata": {},
     "output_type": "execute_result"
    }
   ],
   "source": [
    "people['fernando']"
   ]
  },
  {
   "cell_type": "markdown",
   "id": "7e51eff6",
   "metadata": {},
   "source": [
    "# Bucles"
   ]
  },
  {
   "cell_type": "code",
   "execution_count": 48,
   "id": "96b41a81",
   "metadata": {},
   "outputs": [],
   "source": [
    "frutas = ['pera', 'manzana','uva']"
   ]
  },
  {
   "cell_type": "code",
   "execution_count": 49,
   "id": "d1a7b5fc",
   "metadata": {},
   "outputs": [
    {
     "name": "stdout",
     "output_type": "stream",
     "text": [
      "pera\n",
      "manzana\n",
      "uva\n"
     ]
    }
   ],
   "source": [
    "for fruta in frutas:\n",
    "    # Aqui va la logica\n",
    "    print(fruta)"
   ]
  },
  {
   "cell_type": "markdown",
   "id": "653cb043",
   "metadata": {},
   "source": [
    "# Condicionales "
   ]
  },
  {
   "cell_type": "code",
   "execution_count": 52,
   "id": "948296c0",
   "metadata": {},
   "outputs": [
    {
     "name": "stdout",
     "output_type": "stream",
     "text": [
      "es una pera\n",
      "pera\n",
      "sin uvas\n",
      "manzana\n",
      "uva encontrada\n",
      "uva\n"
     ]
    }
   ],
   "source": [
    "for fruta in frutas:\n",
    "    if fruta=='uva':\n",
    "        print('uva encontrada')\n",
    "    elif fruta=='pera':\n",
    "        print('es una pera')\n",
    "    else:\n",
    "        print('sin uvas')\n",
    "    print(fruta)"
   ]
  },
  {
   "cell_type": "code",
   "execution_count": null,
   "id": "38b6a373",
   "metadata": {},
   "outputs": [],
   "source": []
  }
 ],
 "metadata": {
  "kernelspec": {
   "display_name": "Python 3 (ipykernel)",
   "language": "python",
   "name": "python3"
  },
  "language_info": {
   "codemirror_mode": {
    "name": "ipython",
    "version": 3
   },
   "file_extension": ".py",
   "mimetype": "text/x-python",
   "name": "python",
   "nbconvert_exporter": "python",
   "pygments_lexer": "ipython3",
   "version": "3.10.4"
  }
 },
 "nbformat": 4,
 "nbformat_minor": 5
}
