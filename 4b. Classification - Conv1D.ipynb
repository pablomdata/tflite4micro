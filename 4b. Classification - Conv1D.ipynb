{
 "cells": [
  {
   "cell_type": "code",
   "execution_count": 1,
   "id": "35a9244c",
   "metadata": {},
   "outputs": [
    {
     "name": "stdout",
     "output_type": "stream",
     "text": [
      "WARNING:tensorflow:From C:\\Users\\HP\\AppData\\Local\\Programs\\Python\\Python310\\lib\\site-packages\\keras\\src\\losses.py:2976: The name tf.losses.sparse_softmax_cross_entropy is deprecated. Please use tf.compat.v1.losses.sparse_softmax_cross_entropy instead.\n",
      "\n"
     ]
    }
   ],
   "source": [
    "import pandas as pd\n",
    "import tensorflow as tf\n",
    "import numpy as np\n",
    "import matplotlib.pyplot as plt"
   ]
  },
  {
   "cell_type": "code",
   "execution_count": 2,
   "id": "db559564",
   "metadata": {},
   "outputs": [],
   "source": [
    "# Fijar la semilla del generador\n",
    "tf.keras.utils.set_random_seed(0)"
   ]
  },
  {
   "cell_type": "code",
   "execution_count": 3,
   "id": "0f74c59f",
   "metadata": {},
   "outputs": [],
   "source": [
    "df = pd.read_csv('./data/ford_train.tsv', sep='\\t', header=None)"
   ]
  },
  {
   "cell_type": "code",
   "execution_count": 4,
   "id": "c7caea62",
   "metadata": {},
   "outputs": [
    {
     "data": {
      "text/html": [
       "<div>\n",
       "<style scoped>\n",
       "    .dataframe tbody tr th:only-of-type {\n",
       "        vertical-align: middle;\n",
       "    }\n",
       "\n",
       "    .dataframe tbody tr th {\n",
       "        vertical-align: top;\n",
       "    }\n",
       "\n",
       "    .dataframe thead th {\n",
       "        text-align: right;\n",
       "    }\n",
       "</style>\n",
       "<table border=\"1\" class=\"dataframe\">\n",
       "  <thead>\n",
       "    <tr style=\"text-align: right;\">\n",
       "      <th></th>\n",
       "      <th>0</th>\n",
       "      <th>1</th>\n",
       "      <th>2</th>\n",
       "      <th>3</th>\n",
       "      <th>4</th>\n",
       "      <th>5</th>\n",
       "      <th>6</th>\n",
       "      <th>7</th>\n",
       "      <th>8</th>\n",
       "      <th>9</th>\n",
       "      <th>...</th>\n",
       "      <th>491</th>\n",
       "      <th>492</th>\n",
       "      <th>493</th>\n",
       "      <th>494</th>\n",
       "      <th>495</th>\n",
       "      <th>496</th>\n",
       "      <th>497</th>\n",
       "      <th>498</th>\n",
       "      <th>499</th>\n",
       "      <th>500</th>\n",
       "    </tr>\n",
       "  </thead>\n",
       "  <tbody>\n",
       "    <tr>\n",
       "      <th>0</th>\n",
       "      <td>-1</td>\n",
       "      <td>-0.797172</td>\n",
       "      <td>-0.664392</td>\n",
       "      <td>-0.373015</td>\n",
       "      <td>0.040815</td>\n",
       "      <td>0.526936</td>\n",
       "      <td>0.984288</td>\n",
       "      <td>1.353120</td>\n",
       "      <td>1.578108</td>\n",
       "      <td>1.659251</td>\n",
       "      <td>...</td>\n",
       "      <td>1.120756</td>\n",
       "      <td>0.722417</td>\n",
       "      <td>0.362068</td>\n",
       "      <td>0.092083</td>\n",
       "      <td>-0.081268</td>\n",
       "      <td>-0.212573</td>\n",
       "      <td>-0.391456</td>\n",
       "      <td>-0.664392</td>\n",
       "      <td>-1.073796</td>\n",
       "      <td>-1.564343</td>\n",
       "    </tr>\n",
       "    <tr>\n",
       "      <th>1</th>\n",
       "      <td>1</td>\n",
       "      <td>0.804855</td>\n",
       "      <td>0.634629</td>\n",
       "      <td>0.373474</td>\n",
       "      <td>0.038343</td>\n",
       "      <td>-0.340988</td>\n",
       "      <td>-0.740860</td>\n",
       "      <td>-1.109667</td>\n",
       "      <td>-1.395357</td>\n",
       "      <td>-1.570192</td>\n",
       "      <td>...</td>\n",
       "      <td>0.386403</td>\n",
       "      <td>0.049213</td>\n",
       "      <td>-0.258138</td>\n",
       "      <td>-0.510583</td>\n",
       "      <td>-0.683647</td>\n",
       "      <td>-0.773817</td>\n",
       "      <td>-0.785255</td>\n",
       "      <td>-0.714885</td>\n",
       "      <td>-0.560443</td>\n",
       "      <td>-0.319086</td>\n",
       "    </tr>\n",
       "    <tr>\n",
       "      <th>2</th>\n",
       "      <td>-1</td>\n",
       "      <td>0.727985</td>\n",
       "      <td>0.111284</td>\n",
       "      <td>-0.499124</td>\n",
       "      <td>-1.068629</td>\n",
       "      <td>-1.578351</td>\n",
       "      <td>-1.990534</td>\n",
       "      <td>-2.302031</td>\n",
       "      <td>-2.503403</td>\n",
       "      <td>-2.585211</td>\n",
       "      <td>...</td>\n",
       "      <td>0.394463</td>\n",
       "      <td>0.463685</td>\n",
       "      <td>0.507735</td>\n",
       "      <td>0.517174</td>\n",
       "      <td>0.504588</td>\n",
       "      <td>0.476270</td>\n",
       "      <td>0.438513</td>\n",
       "      <td>0.394463</td>\n",
       "      <td>0.339400</td>\n",
       "      <td>0.255391</td>\n",
       "    </tr>\n",
       "    <tr>\n",
       "      <th>3</th>\n",
       "      <td>-1</td>\n",
       "      <td>-0.234439</td>\n",
       "      <td>-0.502157</td>\n",
       "      <td>-0.732488</td>\n",
       "      <td>-0.946128</td>\n",
       "      <td>-1.139739</td>\n",
       "      <td>-1.323336</td>\n",
       "      <td>-1.490243</td>\n",
       "      <td>-1.607077</td>\n",
       "      <td>-1.620430</td>\n",
       "      <td>...</td>\n",
       "      <td>-0.952804</td>\n",
       "      <td>-0.929437</td>\n",
       "      <td>-0.922761</td>\n",
       "      <td>-0.929437</td>\n",
       "      <td>-0.909409</td>\n",
       "      <td>-0.835970</td>\n",
       "      <td>-0.695768</td>\n",
       "      <td>-0.478790</td>\n",
       "      <td>-0.188707</td>\n",
       "      <td>0.119736</td>\n",
       "    </tr>\n",
       "    <tr>\n",
       "      <th>4</th>\n",
       "      <td>-1</td>\n",
       "      <td>-0.171328</td>\n",
       "      <td>-0.062285</td>\n",
       "      <td>0.235829</td>\n",
       "      <td>0.710396</td>\n",
       "      <td>1.239969</td>\n",
       "      <td>1.649823</td>\n",
       "      <td>1.876321</td>\n",
       "      <td>1.865535</td>\n",
       "      <td>1.703751</td>\n",
       "      <td>...</td>\n",
       "      <td>0.776188</td>\n",
       "      <td>0.725496</td>\n",
       "      <td>0.697453</td>\n",
       "      <td>0.731967</td>\n",
       "      <td>0.808545</td>\n",
       "      <td>0.839823</td>\n",
       "      <td>0.733046</td>\n",
       "      <td>0.437520</td>\n",
       "      <td>-0.026585</td>\n",
       "      <td>-0.602213</td>\n",
       "    </tr>\n",
       "  </tbody>\n",
       "</table>\n",
       "<p>5 rows × 501 columns</p>\n",
       "</div>"
      ],
      "text/plain": [
       "   0         1         2         3         4         5         6         7    \\\n",
       "0   -1 -0.797172 -0.664392 -0.373015  0.040815  0.526936  0.984288  1.353120   \n",
       "1    1  0.804855  0.634629  0.373474  0.038343 -0.340988 -0.740860 -1.109667   \n",
       "2   -1  0.727985  0.111284 -0.499124 -1.068629 -1.578351 -1.990534 -2.302031   \n",
       "3   -1 -0.234439 -0.502157 -0.732488 -0.946128 -1.139739 -1.323336 -1.490243   \n",
       "4   -1 -0.171328 -0.062285  0.235829  0.710396  1.239969  1.649823  1.876321   \n",
       "\n",
       "        8         9    ...       491       492       493       494       495  \\\n",
       "0  1.578108  1.659251  ...  1.120756  0.722417  0.362068  0.092083 -0.081268   \n",
       "1 -1.395357 -1.570192  ...  0.386403  0.049213 -0.258138 -0.510583 -0.683647   \n",
       "2 -2.503403 -2.585211  ...  0.394463  0.463685  0.507735  0.517174  0.504588   \n",
       "3 -1.607077 -1.620430  ... -0.952804 -0.929437 -0.922761 -0.929437 -0.909409   \n",
       "4  1.865535  1.703751  ...  0.776188  0.725496  0.697453  0.731967  0.808545   \n",
       "\n",
       "        496       497       498       499       500  \n",
       "0 -0.212573 -0.391456 -0.664392 -1.073796 -1.564343  \n",
       "1 -0.773817 -0.785255 -0.714885 -0.560443 -0.319086  \n",
       "2  0.476270  0.438513  0.394463  0.339400  0.255391  \n",
       "3 -0.835970 -0.695768 -0.478790 -0.188707  0.119736  \n",
       "4  0.839823  0.733046  0.437520 -0.026585 -0.602213  \n",
       "\n",
       "[5 rows x 501 columns]"
      ]
     },
     "execution_count": 4,
     "metadata": {},
     "output_type": "execute_result"
    }
   ],
   "source": [
    "df.head()"
   ]
  },
  {
   "cell_type": "code",
   "execution_count": 5,
   "id": "a72013da",
   "metadata": {},
   "outputs": [],
   "source": [
    "X = df.iloc[:,1:].values\n",
    "y = df.iloc[:,0].values"
   ]
  },
  {
   "cell_type": "code",
   "execution_count": 6,
   "id": "925acd9e",
   "metadata": {},
   "outputs": [],
   "source": [
    "y = (y+1)/2 # Cambiar -1 por 0 (operación vectorizada en numpy)"
   ]
  },
  {
   "cell_type": "markdown",
   "id": "de2fbae0",
   "metadata": {},
   "source": [
    "## Dividir en train/val "
   ]
  },
  {
   "cell_type": "code",
   "execution_count": 7,
   "id": "345b2324",
   "metadata": {},
   "outputs": [],
   "source": [
    "from sklearn.model_selection import train_test_split"
   ]
  },
  {
   "cell_type": "code",
   "execution_count": 8,
   "id": "ef2de757",
   "metadata": {},
   "outputs": [],
   "source": [
    "X_train, X_val, y_train, y_val = train_test_split(X,y, train_size=0.8, random_state=0)"
   ]
  },
  {
   "cell_type": "code",
   "execution_count": 9,
   "id": "04f484ea",
   "metadata": {},
   "outputs": [
    {
     "data": {
      "text/plain": [
       "(2880, 500)"
      ]
     },
     "execution_count": 9,
     "metadata": {},
     "output_type": "execute_result"
    }
   ],
   "source": [
    "X_train.shape"
   ]
  },
  {
   "cell_type": "code",
   "execution_count": 10,
   "id": "2b0fdaa7",
   "metadata": {},
   "outputs": [
    {
     "data": {
      "text/plain": [
       "(721, 500)"
      ]
     },
     "execution_count": 10,
     "metadata": {},
     "output_type": "execute_result"
    }
   ],
   "source": [
    "X_val.shape"
   ]
  },
  {
   "cell_type": "markdown",
   "id": "e4eb465d",
   "metadata": {},
   "source": [
    "## Crear modelo y entrenar"
   ]
  },
  {
   "cell_type": "code",
   "execution_count": 11,
   "id": "ed868749",
   "metadata": {},
   "outputs": [
    {
     "name": "stdout",
     "output_type": "stream",
     "text": [
      "WARNING:tensorflow:From C:\\Users\\HP\\AppData\\Local\\Programs\\Python\\Python310\\lib\\site-packages\\keras\\src\\backend.py:1398: The name tf.executing_eagerly_outside_functions is deprecated. Please use tf.compat.v1.executing_eagerly_outside_functions instead.\n",
      "\n"
     ]
    }
   ],
   "source": [
    "model = tf.keras.Sequential([\n",
    "    tf.keras.layers.Input(shape=(X_train.shape[1],1,)),\n",
    "    \n",
    "    tf.keras.layers.Conv1D(filters=64, kernel_size=3),\n",
    "    tf.keras.layers.BatchNormalization(),\n",
    "    tf.keras.layers.ReLU(),\n",
    "    \n",
    "    tf.keras.layers.Conv1D(filters=64, kernel_size=3),\n",
    "    tf.keras.layers.BatchNormalization(),\n",
    "    tf.keras.layers.ReLU(),\n",
    "    \n",
    "    tf.keras.layers.Conv1D(filters=64, kernel_size=3),\n",
    "    tf.keras.layers.BatchNormalization(),\n",
    "    tf.keras.layers.ReLU(),\n",
    "    \n",
    "    tf.keras.layers.GlobalAveragePooling1D(),\n",
    "    \n",
    "    tf.keras.layers.Dense(1, activation='sigmoid')\n",
    "])"
   ]
  },
  {
   "cell_type": "code",
   "execution_count": 12,
   "id": "2ccdbec3",
   "metadata": {},
   "outputs": [
    {
     "name": "stdout",
     "output_type": "stream",
     "text": [
      "Model: \"sequential\"\n",
      "_________________________________________________________________\n",
      " Layer (type)                Output Shape              Param #   \n",
      "=================================================================\n",
      " conv1d (Conv1D)             (None, 498, 64)           256       \n",
      "                                                                 \n",
      " batch_normalization (Batch  (None, 498, 64)           256       \n",
      " Normalization)                                                  \n",
      "                                                                 \n",
      " re_lu (ReLU)                (None, 498, 64)           0         \n",
      "                                                                 \n",
      " conv1d_1 (Conv1D)           (None, 496, 64)           12352     \n",
      "                                                                 \n",
      " batch_normalization_1 (Bat  (None, 496, 64)           256       \n",
      " chNormalization)                                                \n",
      "                                                                 \n",
      " re_lu_1 (ReLU)              (None, 496, 64)           0         \n",
      "                                                                 \n",
      " conv1d_2 (Conv1D)           (None, 494, 64)           12352     \n",
      "                                                                 \n",
      " batch_normalization_2 (Bat  (None, 494, 64)           256       \n",
      " chNormalization)                                                \n",
      "                                                                 \n",
      " re_lu_2 (ReLU)              (None, 494, 64)           0         \n",
      "                                                                 \n",
      " global_average_pooling1d (  (None, 64)                0         \n",
      " GlobalAveragePooling1D)                                         \n",
      "                                                                 \n",
      " dense (Dense)               (None, 1)                 65        \n",
      "                                                                 \n",
      "=================================================================\n",
      "Total params: 25793 (100.75 KB)\n",
      "Trainable params: 25409 (99.25 KB)\n",
      "Non-trainable params: 384 (1.50 KB)\n",
      "_________________________________________________________________\n"
     ]
    }
   ],
   "source": [
    "model.summary()"
   ]
  },
  {
   "cell_type": "code",
   "execution_count": 13,
   "id": "2763ebc7",
   "metadata": {},
   "outputs": [
    {
     "name": "stdout",
     "output_type": "stream",
     "text": [
      "WARNING:tensorflow:From C:\\Users\\HP\\AppData\\Local\\Programs\\Python\\Python310\\lib\\site-packages\\keras\\src\\optimizers\\__init__.py:309: The name tf.train.Optimizer is deprecated. Please use tf.compat.v1.train.Optimizer instead.\n",
      "\n"
     ]
    }
   ],
   "source": [
    "model.compile(loss='mse', ) # mse = mean squared error (error cuadrado promedio)"
   ]
  },
  {
   "cell_type": "code",
   "execution_count": 14,
   "id": "47bd560a",
   "metadata": {},
   "outputs": [
    {
     "name": "stdout",
     "output_type": "stream",
     "text": [
      "Epoch 1/100\n",
      "WARNING:tensorflow:From C:\\Users\\HP\\AppData\\Local\\Programs\\Python\\Python310\\lib\\site-packages\\keras\\src\\utils\\tf_utils.py:492: The name tf.ragged.RaggedTensorValue is deprecated. Please use tf.compat.v1.ragged.RaggedTensorValue instead.\n",
      "\n",
      "90/90 [==============================] - 7s 65ms/step - loss: 0.1971 - val_loss: 0.2661\n",
      "Epoch 2/100\n",
      "90/90 [==============================] - 6s 62ms/step - loss: 0.1668 - val_loss: 0.2601\n",
      "Epoch 3/100\n",
      "90/90 [==============================] - 6s 64ms/step - loss: 0.1558 - val_loss: 0.2471\n",
      "Epoch 4/100\n",
      "90/90 [==============================] - 6s 62ms/step - loss: 0.1510 - val_loss: 0.2403\n",
      "Epoch 5/100\n",
      "90/90 [==============================] - 6s 62ms/step - loss: 0.1430 - val_loss: 0.3054\n",
      "Epoch 6/100\n",
      "90/90 [==============================] - 6s 62ms/step - loss: 0.1424 - val_loss: 0.2914\n",
      "Epoch 7/100\n",
      "90/90 [==============================] - 6s 66ms/step - loss: 0.1406 - val_loss: 0.2390\n",
      "Epoch 8/100\n",
      "90/90 [==============================] - 6s 70ms/step - loss: 0.1388 - val_loss: 0.1757\n",
      "Epoch 9/100\n",
      "90/90 [==============================] - 6s 67ms/step - loss: 0.1326 - val_loss: 0.1480\n",
      "Epoch 10/100\n",
      "90/90 [==============================] - 6s 68ms/step - loss: 0.1347 - val_loss: 0.1322\n",
      "Epoch 11/100\n",
      "90/90 [==============================] - 6s 67ms/step - loss: 0.1305 - val_loss: 0.1404\n",
      "Epoch 12/100\n",
      "90/90 [==============================] - 7s 78ms/step - loss: 0.1281 - val_loss: 0.1209\n",
      "Epoch 13/100\n",
      "90/90 [==============================] - 7s 72ms/step - loss: 0.1234 - val_loss: 0.1740\n",
      "Epoch 14/100\n",
      "90/90 [==============================] - 6s 68ms/step - loss: 0.1252 - val_loss: 0.1250\n",
      "Epoch 15/100\n",
      "90/90 [==============================] - 6s 68ms/step - loss: 0.1237 - val_loss: 0.1296\n",
      "Epoch 16/100\n",
      "90/90 [==============================] - 6s 67ms/step - loss: 0.1231 - val_loss: 0.1093\n",
      "Epoch 17/100\n",
      "90/90 [==============================] - 6s 68ms/step - loss: 0.1156 - val_loss: 0.1093\n",
      "Epoch 18/100\n",
      "90/90 [==============================] - 6s 69ms/step - loss: 0.1116 - val_loss: 0.1473\n",
      "Epoch 19/100\n",
      "90/90 [==============================] - 6s 68ms/step - loss: 0.1107 - val_loss: 0.1042\n",
      "Epoch 20/100\n",
      "90/90 [==============================] - 6s 69ms/step - loss: 0.1069 - val_loss: 0.1073\n",
      "Epoch 21/100\n",
      "90/90 [==============================] - 6s 70ms/step - loss: 0.1051 - val_loss: 0.1071\n",
      "Epoch 22/100\n",
      "90/90 [==============================] - 6s 69ms/step - loss: 0.1009 - val_loss: 0.1022\n",
      "Epoch 23/100\n",
      "90/90 [==============================] - 6s 69ms/step - loss: 0.0996 - val_loss: 0.1074\n",
      "Epoch 24/100\n",
      "90/90 [==============================] - 6s 63ms/step - loss: 0.0991 - val_loss: 0.1192\n",
      "Epoch 25/100\n",
      "90/90 [==============================] - 6s 64ms/step - loss: 0.0949 - val_loss: 0.1070\n",
      "Epoch 26/100\n",
      "90/90 [==============================] - 6s 63ms/step - loss: 0.0941 - val_loss: 0.0919\n",
      "Epoch 27/100\n",
      "90/90 [==============================] - 6s 64ms/step - loss: 0.0909 - val_loss: 0.1139\n",
      "Epoch 28/100\n",
      "90/90 [==============================] - 6s 64ms/step - loss: 0.0936 - val_loss: 0.1025\n",
      "Epoch 29/100\n",
      "90/90 [==============================] - 6s 64ms/step - loss: 0.0901 - val_loss: 0.1179\n",
      "Epoch 30/100\n",
      "90/90 [==============================] - 6s 64ms/step - loss: 0.0891 - val_loss: 0.1335\n",
      "Epoch 31/100\n",
      "90/90 [==============================] - 6s 64ms/step - loss: 0.0846 - val_loss: 0.1094\n",
      "Epoch 32/100\n",
      "90/90 [==============================] - 6s 64ms/step - loss: 0.0864 - val_loss: 0.0936\n",
      "Epoch 33/100\n",
      "90/90 [==============================] - 6s 65ms/step - loss: 0.0861 - val_loss: 0.0841\n",
      "Epoch 34/100\n",
      "90/90 [==============================] - 6s 65ms/step - loss: 0.0835 - val_loss: 0.1471\n",
      "Epoch 35/100\n",
      "90/90 [==============================] - 6s 64ms/step - loss: 0.0847 - val_loss: 0.0837\n",
      "Epoch 36/100\n",
      "90/90 [==============================] - 6s 64ms/step - loss: 0.0816 - val_loss: 0.0778\n",
      "Epoch 37/100\n",
      "90/90 [==============================] - 6s 64ms/step - loss: 0.0809 - val_loss: 0.0919\n",
      "Epoch 38/100\n",
      "90/90 [==============================] - 7s 73ms/step - loss: 0.0787 - val_loss: 0.1101\n",
      "Epoch 39/100\n",
      "90/90 [==============================] - 6s 70ms/step - loss: 0.0781 - val_loss: 0.0919\n",
      "Epoch 40/100\n",
      "90/90 [==============================] - 6s 69ms/step - loss: 0.0758 - val_loss: 0.0809\n",
      "Epoch 41/100\n",
      "90/90 [==============================] - 6s 69ms/step - loss: 0.0757 - val_loss: 0.0848\n",
      "Epoch 42/100\n",
      "90/90 [==============================] - 6s 68ms/step - loss: 0.0752 - val_loss: 0.0741\n",
      "Epoch 43/100\n",
      "90/90 [==============================] - 6s 70ms/step - loss: 0.0738 - val_loss: 0.0777\n",
      "Epoch 44/100\n",
      "90/90 [==============================] - 6s 69ms/step - loss: 0.0695 - val_loss: 0.0639\n",
      "Epoch 45/100\n",
      "90/90 [==============================] - 6s 70ms/step - loss: 0.0682 - val_loss: 0.0628\n",
      "Epoch 46/100\n",
      "90/90 [==============================] - 6s 71ms/step - loss: 0.0665 - val_loss: 0.0853\n",
      "Epoch 47/100\n",
      "90/90 [==============================] - 6s 69ms/step - loss: 0.0688 - val_loss: 0.0754\n",
      "Epoch 48/100\n",
      "90/90 [==============================] - 6s 70ms/step - loss: 0.0642 - val_loss: 0.1388\n",
      "Epoch 49/100\n",
      "90/90 [==============================] - 6s 63ms/step - loss: 0.0616 - val_loss: 0.0568\n",
      "Epoch 50/100\n",
      "90/90 [==============================] - 6s 64ms/step - loss: 0.0587 - val_loss: 0.0702\n",
      "Epoch 51/100\n",
      "90/90 [==============================] - 6s 65ms/step - loss: 0.0645 - val_loss: 0.0576\n",
      "Epoch 52/100\n",
      "90/90 [==============================] - 6s 68ms/step - loss: 0.0593 - val_loss: 0.0529\n",
      "Epoch 53/100\n",
      "90/90 [==============================] - 6s 64ms/step - loss: 0.0555 - val_loss: 0.0510\n",
      "Epoch 54/100\n",
      "90/90 [==============================] - 6s 63ms/step - loss: 0.0519 - val_loss: 0.0945\n",
      "Epoch 55/100\n",
      "90/90 [==============================] - 6s 63ms/step - loss: 0.0504 - val_loss: 0.0536\n",
      "Epoch 56/100\n",
      "90/90 [==============================] - 6s 63ms/step - loss: 0.0445 - val_loss: 0.0475\n",
      "Epoch 57/100\n",
      "90/90 [==============================] - 6s 63ms/step - loss: 0.0464 - val_loss: 0.0496\n",
      "Epoch 58/100\n",
      "90/90 [==============================] - 6s 63ms/step - loss: 0.0427 - val_loss: 0.0546\n",
      "Epoch 59/100\n",
      "90/90 [==============================] - 6s 63ms/step - loss: 0.0397 - val_loss: 0.0573\n",
      "Epoch 60/100\n",
      "90/90 [==============================] - 6s 64ms/step - loss: 0.0406 - val_loss: 0.0384\n",
      "Epoch 61/100\n",
      "90/90 [==============================] - 6s 64ms/step - loss: 0.0408 - val_loss: 0.0356\n",
      "Epoch 62/100\n",
      "90/90 [==============================] - 6s 65ms/step - loss: 0.0395 - val_loss: 0.0428\n",
      "Epoch 63/100\n",
      "90/90 [==============================] - 6s 65ms/step - loss: 0.0369 - val_loss: 0.0311\n",
      "Epoch 64/100\n",
      "90/90 [==============================] - 6s 68ms/step - loss: 0.0378 - val_loss: 0.0452\n",
      "Epoch 65/100\n",
      "90/90 [==============================] - 7s 74ms/step - loss: 0.0345 - val_loss: 0.0331\n",
      "Epoch 66/100\n",
      "90/90 [==============================] - 6s 61ms/step - loss: 0.0356 - val_loss: 0.0415\n",
      "Epoch 67/100\n",
      "90/90 [==============================] - 5s 61ms/step - loss: 0.0365 - val_loss: 0.0299\n",
      "Epoch 68/100\n",
      "90/90 [==============================] - 5s 60ms/step - loss: 0.0347 - val_loss: 0.0899\n",
      "Epoch 69/100\n",
      "90/90 [==============================] - 5s 60ms/step - loss: 0.0364 - val_loss: 0.0390\n",
      "Epoch 70/100\n",
      "90/90 [==============================] - 5s 59ms/step - loss: 0.0324 - val_loss: 0.0341\n",
      "Epoch 71/100\n",
      "90/90 [==============================] - 6s 62ms/step - loss: 0.0317 - val_loss: 0.0401\n",
      "Epoch 72/100\n",
      "90/90 [==============================] - 6s 63ms/step - loss: 0.0328 - val_loss: 0.0701\n",
      "Epoch 73/100\n",
      "90/90 [==============================] - 7s 77ms/step - loss: 0.0350 - val_loss: 0.0387\n",
      "Epoch 74/100\n",
      "90/90 [==============================] - 7s 82ms/step - loss: 0.0355 - val_loss: 0.0340\n",
      "Epoch 75/100\n",
      "90/90 [==============================] - 7s 80ms/step - loss: 0.0352 - val_loss: 0.0320\n",
      "Epoch 76/100\n",
      "90/90 [==============================] - 10s 110ms/step - loss: 0.0311 - val_loss: 0.0735\n",
      "Epoch 77/100\n",
      "90/90 [==============================] - 7s 78ms/step - loss: 0.0319 - val_loss: 0.0324\n",
      "Epoch 78/100\n",
      "90/90 [==============================] - 6s 68ms/step - loss: 0.0338 - val_loss: 0.0292\n",
      "Epoch 79/100\n",
      "90/90 [==============================] - 9s 103ms/step - loss: 0.0306 - val_loss: 0.0333\n"
     ]
    },
    {
     "name": "stdout",
     "output_type": "stream",
     "text": [
      "Epoch 80/100\n",
      "90/90 [==============================] - 10s 109ms/step - loss: 0.0330 - val_loss: 0.0316\n",
      "Epoch 81/100\n",
      "90/90 [==============================] - 7s 81ms/step - loss: 0.0308 - val_loss: 0.0278\n",
      "Epoch 82/100\n",
      "90/90 [==============================] - 6s 69ms/step - loss: 0.0311 - val_loss: 0.0741\n",
      "Epoch 83/100\n",
      "90/90 [==============================] - 6s 66ms/step - loss: 0.0311 - val_loss: 0.0325\n",
      "Epoch 84/100\n",
      "90/90 [==============================] - 6s 66ms/step - loss: 0.0304 - val_loss: 0.0283\n",
      "Epoch 85/100\n",
      "90/90 [==============================] - 6s 62ms/step - loss: 0.0303 - val_loss: 0.0280\n",
      "Epoch 86/100\n",
      "90/90 [==============================] - 6s 62ms/step - loss: 0.0318 - val_loss: 0.0428\n",
      "Epoch 87/100\n",
      "90/90 [==============================] - 6s 63ms/step - loss: 0.0316 - val_loss: 0.0294\n",
      "Epoch 88/100\n",
      "90/90 [==============================] - 5s 61ms/step - loss: 0.0281 - val_loss: 0.0554\n",
      "Epoch 89/100\n",
      "90/90 [==============================] - 5s 58ms/step - loss: 0.0335 - val_loss: 0.0864\n",
      "Epoch 90/100\n",
      "90/90 [==============================] - 6s 61ms/step - loss: 0.0314 - val_loss: 0.0303\n",
      "Epoch 91/100\n",
      "90/90 [==============================] - 5s 60ms/step - loss: 0.0330 - val_loss: 0.0296\n",
      "Epoch 92/100\n",
      "90/90 [==============================] - 5s 59ms/step - loss: 0.0288 - val_loss: 0.0280\n",
      "Epoch 93/100\n",
      "90/90 [==============================] - 5s 61ms/step - loss: 0.0315 - val_loss: 0.0390\n",
      "Epoch 94/100\n",
      "90/90 [==============================] - 6s 66ms/step - loss: 0.0280 - val_loss: 0.0422\n",
      "Epoch 95/100\n",
      "90/90 [==============================] - 5s 61ms/step - loss: 0.0289 - val_loss: 0.0284\n",
      "Epoch 96/100\n",
      "90/90 [==============================] - 6s 62ms/step - loss: 0.0294 - val_loss: 0.0283\n",
      "Epoch 97/100\n",
      "90/90 [==============================] - 6s 63ms/step - loss: 0.0264 - val_loss: 0.0626\n",
      "Epoch 98/100\n",
      "90/90 [==============================] - 6s 70ms/step - loss: 0.0268 - val_loss: 0.0427\n",
      "Epoch 99/100\n",
      "90/90 [==============================] - 6s 66ms/step - loss: 0.0297 - val_loss: 0.0396\n",
      "Epoch 100/100\n",
      "90/90 [==============================] - 6s 65ms/step - loss: 0.0297 - val_loss: 0.0324\n"
     ]
    }
   ],
   "source": [
    "history = model.fit(X_train, y_train, validation_data=(X_val, y_val), epochs=100, batch_size=32)"
   ]
  },
  {
   "cell_type": "code",
   "execution_count": 15,
   "id": "fed79aac",
   "metadata": {},
   "outputs": [],
   "source": [
    "loss = history.history['loss']\n",
    "val_loss = history.history['val_loss']\n",
    "epochs = range(1,len(loss)+1)"
   ]
  },
  {
   "cell_type": "code",
   "execution_count": 16,
   "id": "1e20840f",
   "metadata": {},
   "outputs": [
    {
     "data": {
      "text/plain": [
       "<matplotlib.legend.Legend at 0x257dcf0fa60>"
      ]
     },
     "execution_count": 16,
     "metadata": {},
     "output_type": "execute_result"
    },
    {
     "data": {
      "image/png": "[encoded data removed]",
      "text/plain": [
       "<Figure size 432x288 with 1 Axes>"
      ]
     },
     "metadata": {
      "needs_background": "light"
     },
     "output_type": "display_data"
    }
   ],
   "source": [
    "plt.plot(epochs, loss, label='Train loss')\n",
    "plt.plot(epochs, val_loss, label='Val loss')\n",
    "plt.legend()"
   ]
  },
  {
   "cell_type": "code",
   "execution_count": null,
   "id": "4536896f",
   "metadata": {},
   "outputs": [],
   "source": []
  }
 ],
 "metadata": {
  "kernelspec": {
   "display_name": "Python 3 (ipykernel)",
   "language": "python",
   "name": "python3"
  },
  "language_info": {
   "codemirror_mode": {
    "name": "ipython",
    "version": 3
   },
   "file_extension": ".py",
   "mimetype": "text/x-python",
   "name": "python",
   "nbconvert_exporter": "python",
   "pygments_lexer": "ipython3",
   "version": "3.10.4"
  }
 },
 "nbformat": 4,
 "nbformat_minor": 5
}
