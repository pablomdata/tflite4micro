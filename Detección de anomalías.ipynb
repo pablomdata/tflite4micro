{
 "cells": [
  {
   "cell_type": "code",
   "execution_count": 1,
   "id": "d1ed0d87",
   "metadata": {},
   "outputs": [
    {
     "name": "stdout",
     "output_type": "stream",
     "text": [
      "WARNING:tensorflow:From C:\\Users\\HP\\AppData\\Local\\Programs\\Python\\Python310\\lib\\site-packages\\keras\\src\\losses.py:2976: The name tf.losses.sparse_softmax_cross_entropy is deprecated. Please use tf.compat.v1.losses.sparse_softmax_cross_entropy instead.\n",
      "\n"
     ]
    }
   ],
   "source": [
    "import tensorflow as tf\n",
    "import pandas as pd\n",
    "import numpy as np\n",
    "import matplotlib.pyplot as plt"
   ]
  },
  {
   "cell_type": "code",
   "execution_count": 2,
   "id": "c111d0bc",
   "metadata": {},
   "outputs": [],
   "source": [
    "df = pd.read_csv(\"./data/ford_train.tsv\", sep=\"\\t\", header=None)"
   ]
  },
  {
   "cell_type": "code",
   "execution_count": 3,
   "id": "a26c7b57",
   "metadata": {},
   "outputs": [],
   "source": [
    "df[0] = (df[0]+1)/2"
   ]
  },
  {
   "cell_type": "code",
   "execution_count": 4,
   "id": "16c4a76d",
   "metadata": {},
   "outputs": [],
   "source": [
    "good = df[df[0]==1]\n",
    "X = good.iloc[:,1:].values"
   ]
  },
  {
   "cell_type": "code",
   "execution_count": 5,
   "id": "01b6ea37",
   "metadata": {},
   "outputs": [
    {
     "name": "stdout",
     "output_type": "stream",
     "text": [
      "WARNING:tensorflow:From C:\\Users\\HP\\AppData\\Local\\Programs\\Python\\Python310\\lib\\site-packages\\keras\\src\\backend.py:1398: The name tf.executing_eagerly_outside_functions is deprecated. Please use tf.compat.v1.executing_eagerly_outside_functions instead.\n",
      "\n",
      "WARNING:tensorflow:From C:\\Users\\HP\\AppData\\Local\\Programs\\Python\\Python310\\lib\\site-packages\\keras\\src\\optimizers\\__init__.py:309: The name tf.train.Optimizer is deprecated. Please use tf.compat.v1.train.Optimizer instead.\n",
      "\n"
     ]
    }
   ],
   "source": [
    "model = tf.keras.Sequential(\n",
    "    [ \n",
    "    \n",
    "    # input\n",
    "    tf.keras.layers.Input(shape=(X.shape[1],)),\n",
    "    \n",
    "    # deconstruct / encode\n",
    "    tf.keras.layers.Dense(16),\n",
    "    tf.keras.layers.Dense(8),\n",
    "    tf.keras.layers.Dense(4),\n",
    "    \n",
    "    # reconstruction / decode\n",
    "    tf.keras.layers.Dense(4),\n",
    "    tf.keras.layers.Dense(8),\n",
    "    tf.keras.layers.Dense(16),\n",
    "    \n",
    "    # output\n",
    "    tf.keras.layers.Dense(X.shape[1])\n",
    "    ]\n",
    ")\n",
    "model.compile(loss=\"mse\")"
   ]
  },
  {
   "cell_type": "code",
   "execution_count": 6,
   "id": "1e89bff4",
   "metadata": {},
   "outputs": [
    {
     "name": "stdout",
     "output_type": "stream",
     "text": [
      "Epoch 1/100\n",
      "WARNING:tensorflow:From C:\\Users\\HP\\AppData\\Local\\Programs\\Python\\Python310\\lib\\site-packages\\keras\\src\\utils\\tf_utils.py:492: The name tf.ragged.RaggedTensorValue is deprecated. Please use tf.compat.v1.ragged.RaggedTensorValue instead.\n",
      "\n",
      "55/55 [==============================] - 1s 3ms/step - loss: 0.9101\n",
      "Epoch 2/100\n",
      "55/55 [==============================] - 0s 2ms/step - loss: 0.7584\n",
      "Epoch 3/100\n",
      "55/55 [==============================] - 0s 2ms/step - loss: 0.7455\n",
      "Epoch 4/100\n",
      "55/55 [==============================] - 0s 3ms/step - loss: 0.7191\n",
      "Epoch 5/100\n",
      "55/55 [==============================] - 0s 2ms/step - loss: 0.6858\n",
      "Epoch 6/100\n",
      "55/55 [==============================] - 0s 3ms/step - loss: 0.6812\n",
      "Epoch 7/100\n",
      "55/55 [==============================] - 0s 2ms/step - loss: 0.6809\n",
      "Epoch 8/100\n",
      "55/55 [==============================] - 0s 3ms/step - loss: 0.6806\n",
      "Epoch 9/100\n",
      "55/55 [==============================] - 0s 3ms/step - loss: 0.6805\n",
      "Epoch 10/100\n",
      "55/55 [==============================] - 0s 3ms/step - loss: 0.6807\n",
      "Epoch 11/100\n",
      "55/55 [==============================] - 0s 3ms/step - loss: 0.6805\n",
      "Epoch 12/100\n",
      "55/55 [==============================] - 0s 3ms/step - loss: 0.6806\n",
      "Epoch 13/100\n",
      "55/55 [==============================] - 0s 3ms/step - loss: 0.6803\n",
      "Epoch 14/100\n",
      "55/55 [==============================] - 0s 3ms/step - loss: 0.6806\n",
      "Epoch 15/100\n",
      "55/55 [==============================] - 0s 3ms/step - loss: 0.6805\n",
      "Epoch 16/100\n",
      "55/55 [==============================] - 0s 3ms/step - loss: 0.6802\n",
      "Epoch 17/100\n",
      "55/55 [==============================] - 0s 3ms/step - loss: 0.6804\n",
      "Epoch 18/100\n",
      "55/55 [==============================] - 0s 3ms/step - loss: 0.6802\n",
      "Epoch 19/100\n",
      "55/55 [==============================] - 0s 3ms/step - loss: 0.6802\n",
      "Epoch 20/100\n",
      "55/55 [==============================] - 0s 3ms/step - loss: 0.6802\n",
      "Epoch 21/100\n",
      "55/55 [==============================] - 0s 3ms/step - loss: 0.6802\n",
      "Epoch 22/100\n",
      "55/55 [==============================] - 0s 3ms/step - loss: 0.6800\n",
      "Epoch 23/100\n",
      "55/55 [==============================] - 0s 3ms/step - loss: 0.6800\n",
      "Epoch 24/100\n",
      "55/55 [==============================] - 0s 3ms/step - loss: 0.6801\n",
      "Epoch 25/100\n",
      "55/55 [==============================] - 0s 3ms/step - loss: 0.6800\n",
      "Epoch 26/100\n",
      "55/55 [==============================] - 0s 3ms/step - loss: 0.6799\n",
      "Epoch 27/100\n",
      "55/55 [==============================] - 0s 3ms/step - loss: 0.6800\n",
      "Epoch 28/100\n",
      "55/55 [==============================] - 0s 3ms/step - loss: 0.6799\n",
      "Epoch 29/100\n",
      "55/55 [==============================] - 0s 3ms/step - loss: 0.6799\n",
      "Epoch 30/100\n",
      "55/55 [==============================] - 0s 3ms/step - loss: 0.6798\n",
      "Epoch 31/100\n",
      "55/55 [==============================] - 0s 3ms/step - loss: 0.6800\n",
      "Epoch 32/100\n",
      "55/55 [==============================] - 0s 3ms/step - loss: 0.6797\n",
      "Epoch 33/100\n",
      "55/55 [==============================] - 0s 3ms/step - loss: 0.6798\n",
      "Epoch 34/100\n",
      "55/55 [==============================] - 0s 3ms/step - loss: 0.6798\n",
      "Epoch 35/100\n",
      "55/55 [==============================] - 0s 2ms/step - loss: 0.6797\n",
      "Epoch 36/100\n",
      "55/55 [==============================] - 0s 3ms/step - loss: 0.6797\n",
      "Epoch 37/100\n",
      "55/55 [==============================] - 0s 3ms/step - loss: 0.6797\n",
      "Epoch 38/100\n",
      "55/55 [==============================] - 0s 3ms/step - loss: 0.6796\n",
      "Epoch 39/100\n",
      "55/55 [==============================] - 0s 3ms/step - loss: 0.6796\n",
      "Epoch 40/100\n",
      "55/55 [==============================] - 0s 3ms/step - loss: 0.6796\n",
      "Epoch 41/100\n",
      "55/55 [==============================] - 0s 3ms/step - loss: 0.6796\n",
      "Epoch 42/100\n",
      "55/55 [==============================] - 0s 3ms/step - loss: 0.6796\n",
      "Epoch 43/100\n",
      "55/55 [==============================] - 0s 3ms/step - loss: 0.6795\n",
      "Epoch 44/100\n",
      "55/55 [==============================] - 0s 3ms/step - loss: 0.6796\n",
      "Epoch 45/100\n",
      "55/55 [==============================] - 0s 3ms/step - loss: 0.6796\n",
      "Epoch 46/100\n",
      "55/55 [==============================] - 0s 2ms/step - loss: 0.6795\n",
      "Epoch 47/100\n",
      "55/55 [==============================] - 0s 4ms/step - loss: 0.6795\n",
      "Epoch 48/100\n",
      "55/55 [==============================] - 0s 3ms/step - loss: 0.6795\n",
      "Epoch 49/100\n",
      "55/55 [==============================] - 0s 3ms/step - loss: 0.6795\n",
      "Epoch 50/100\n",
      "55/55 [==============================] - 0s 3ms/step - loss: 0.6795\n",
      "Epoch 51/100\n",
      "55/55 [==============================] - 0s 3ms/step - loss: 0.6795\n",
      "Epoch 52/100\n",
      "55/55 [==============================] - 0s 3ms/step - loss: 0.6794\n",
      "Epoch 53/100\n",
      "55/55 [==============================] - 0s 3ms/step - loss: 0.6794\n",
      "Epoch 54/100\n",
      "55/55 [==============================] - 0s 2ms/step - loss: 0.6794\n",
      "Epoch 55/100\n",
      "55/55 [==============================] - 0s 2ms/step - loss: 0.6794\n",
      "Epoch 56/100\n",
      "55/55 [==============================] - 0s 2ms/step - loss: 0.6795\n",
      "Epoch 57/100\n",
      "55/55 [==============================] - 0s 2ms/step - loss: 0.6793\n",
      "Epoch 58/100\n",
      "55/55 [==============================] - 0s 2ms/step - loss: 0.6794\n",
      "Epoch 59/100\n",
      "55/55 [==============================] - 0s 2ms/step - loss: 0.6793\n",
      "Epoch 60/100\n",
      "55/55 [==============================] - 0s 2ms/step - loss: 0.6793\n",
      "Epoch 61/100\n",
      "55/55 [==============================] - 0s 2ms/step - loss: 0.6794\n",
      "Epoch 62/100\n",
      "55/55 [==============================] - 0s 2ms/step - loss: 0.6793\n",
      "Epoch 63/100\n",
      "55/55 [==============================] - 0s 3ms/step - loss: 0.6793\n",
      "Epoch 64/100\n",
      "55/55 [==============================] - 0s 3ms/step - loss: 0.6793\n",
      "Epoch 65/100\n",
      "55/55 [==============================] - 0s 3ms/step - loss: 0.6793\n",
      "Epoch 66/100\n",
      "55/55 [==============================] - 0s 3ms/step - loss: 0.6792\n",
      "Epoch 67/100\n",
      "55/55 [==============================] - 0s 3ms/step - loss: 0.6793\n",
      "Epoch 68/100\n",
      "55/55 [==============================] - 0s 3ms/step - loss: 0.6793\n",
      "Epoch 69/100\n",
      "55/55 [==============================] - 0s 3ms/step - loss: 0.6792\n",
      "Epoch 70/100\n",
      "55/55 [==============================] - 0s 3ms/step - loss: 0.6793\n",
      "Epoch 71/100\n",
      "55/55 [==============================] - 0s 3ms/step - loss: 0.6792\n",
      "Epoch 72/100\n",
      "55/55 [==============================] - 0s 3ms/step - loss: 0.6792\n",
      "Epoch 73/100\n",
      "55/55 [==============================] - 0s 4ms/step - loss: 0.6792\n",
      "Epoch 74/100\n",
      "55/55 [==============================] - 0s 3ms/step - loss: 0.6792\n",
      "Epoch 75/100\n",
      "55/55 [==============================] - 0s 3ms/step - loss: 0.6792\n",
      "Epoch 76/100\n",
      "55/55 [==============================] - 0s 3ms/step - loss: 0.6791\n",
      "Epoch 77/100\n",
      "55/55 [==============================] - 0s 3ms/step - loss: 0.6792\n",
      "Epoch 78/100\n",
      "55/55 [==============================] - 0s 3ms/step - loss: 0.6791\n",
      "Epoch 79/100\n",
      "55/55 [==============================] - 0s 3ms/step - loss: 0.6791\n",
      "Epoch 80/100\n",
      "55/55 [==============================] - 0s 3ms/step - loss: 0.6791\n",
      "Epoch 81/100\n",
      "55/55 [==============================] - 0s 3ms/step - loss: 0.6792\n",
      "Epoch 82/100\n",
      "55/55 [==============================] - 0s 3ms/step - loss: 0.6791\n",
      "Epoch 83/100\n",
      "55/55 [==============================] - 0s 3ms/step - loss: 0.6791\n",
      "Epoch 84/100\n",
      "55/55 [==============================] - 0s 3ms/step - loss: 0.6792\n",
      "Epoch 85/100\n",
      "55/55 [==============================] - 0s 3ms/step - loss: 0.6791\n",
      "Epoch 86/100\n",
      "55/55 [==============================] - 0s 3ms/step - loss: 0.6791\n",
      "Epoch 87/100\n",
      "55/55 [==============================] - 0s 3ms/step - loss: 0.6790\n",
      "Epoch 88/100\n",
      "55/55 [==============================] - 0s 5ms/step - loss: 0.6791\n",
      "Epoch 89/100\n",
      "55/55 [==============================] - 0s 4ms/step - loss: 0.6791\n",
      "Epoch 90/100\n",
      "55/55 [==============================] - 0s 3ms/step - loss: 0.6791\n",
      "Epoch 91/100\n",
      "55/55 [==============================] - 0s 4ms/step - loss: 0.6791\n",
      "Epoch 92/100\n",
      "55/55 [==============================] - 0s 3ms/step - loss: 0.6791\n",
      "Epoch 93/100\n",
      "55/55 [==============================] - 0s 3ms/step - loss: 0.6790\n",
      "Epoch 94/100\n",
      "55/55 [==============================] - 0s 3ms/step - loss: 0.6790\n",
      "Epoch 95/100\n",
      "55/55 [==============================] - 0s 2ms/step - loss: 0.6790\n",
      "Epoch 96/100\n",
      "55/55 [==============================] - 0s 3ms/step - loss: 0.6790\n",
      "Epoch 97/100\n",
      "55/55 [==============================] - 0s 2ms/step - loss: 0.6790\n",
      "Epoch 98/100\n",
      "55/55 [==============================] - 0s 2ms/step - loss: 0.6790\n",
      "Epoch 99/100\n"
     ]
    },
    {
     "name": "stdout",
     "output_type": "stream",
     "text": [
      "55/55 [==============================] - 0s 2ms/step - loss: 0.6789\n",
      "Epoch 100/100\n",
      "55/55 [==============================] - 0s 2ms/step - loss: 0.6790\n"
     ]
    },
    {
     "data": {
      "text/plain": [
       "<keras.src.callbacks.History at 0x1b28581a770>"
      ]
     },
     "execution_count": 6,
     "metadata": {},
     "output_type": "execute_result"
    }
   ],
   "source": [
    "model.fit(X,X, epochs=100, batch_size=32)"
   ]
  },
  {
   "cell_type": "markdown",
   "id": "275bfe46",
   "metadata": {},
   "source": [
    "## Encontrar umbral (threshold)"
   ]
  },
  {
   "cell_type": "code",
   "execution_count": 7,
   "id": "6244da01",
   "metadata": {},
   "outputs": [],
   "source": [
    "test = df.iloc[:,1:]"
   ]
  },
  {
   "cell_type": "code",
   "execution_count": 8,
   "id": "14f81170",
   "metadata": {},
   "outputs": [
    {
     "name": "stdout",
     "output_type": "stream",
     "text": [
      "55/55 [==============================] - 0s 2ms/step\n"
     ]
    }
   ],
   "source": [
    "X_rec = model.predict(X)"
   ]
  },
  {
   "cell_type": "code",
   "execution_count": 9,
   "id": "d7eb5fca",
   "metadata": {},
   "outputs": [],
   "source": [
    "rec_err = np.sum((X-X_rec)**2, axis=1)"
   ]
  },
  {
   "cell_type": "code",
   "execution_count": 10,
   "id": "728200a3",
   "metadata": {},
   "outputs": [
    {
     "data": {
      "image/png": "[encoded data removed]",
      "text/plain": [
       "<Figure size 432x288 with 1 Axes>"
      ]
     },
     "metadata": {
      "needs_background": "light"
     },
     "output_type": "display_data"
    }
   ],
   "source": [
    "plt.hist(rec_err);"
   ]
  },
  {
   "cell_type": "code",
   "execution_count": 11,
   "id": "5b128ff9",
   "metadata": {},
   "outputs": [],
   "source": [
    "threshold = 400"
   ]
  },
  {
   "cell_type": "markdown",
   "id": "2b68d046",
   "metadata": {},
   "source": [
    "## Evaluación"
   ]
  },
  {
   "cell_type": "code",
   "execution_count": 12,
   "id": "a3ec5199",
   "metadata": {},
   "outputs": [
    {
     "name": "stdout",
     "output_type": "stream",
     "text": [
      "113/113 [==============================] - 0s 2ms/step\n"
     ]
    }
   ],
   "source": [
    "pred = model.predict(test)"
   ]
  },
  {
   "cell_type": "code",
   "execution_count": 13,
   "id": "e0ac38c3",
   "metadata": {},
   "outputs": [],
   "source": [
    "err = np.sum((test-pred)**2, axis=1)"
   ]
  },
  {
   "cell_type": "code",
   "execution_count": 14,
   "id": "3e78f4f7",
   "metadata": {},
   "outputs": [],
   "source": [
    "y_test = df.iloc[:,0]"
   ]
  },
  {
   "cell_type": "code",
   "execution_count": 15,
   "id": "314bc341",
   "metadata": {},
   "outputs": [],
   "source": [
    "y_pred = np.where(err>threshold, 0, 1)"
   ]
  },
  {
   "cell_type": "code",
   "execution_count": 16,
   "id": "f6327ceb",
   "metadata": {},
   "outputs": [],
   "source": [
    "from sklearn.metrics import confusion_matrix"
   ]
  },
  {
   "cell_type": "code",
   "execution_count": 17,
   "id": "75b46668",
   "metadata": {},
   "outputs": [
    {
     "data": {
      "text/plain": [
       "array([[1035,  811],\n",
       "       [ 597, 1158]], dtype=int64)"
      ]
     },
     "execution_count": 17,
     "metadata": {},
     "output_type": "execute_result"
    }
   ],
   "source": [
    "confusion_matrix(y_test, y_pred)"
   ]
  }
 ],
 "metadata": {
  "kernelspec": {
   "display_name": "Python 3 (ipykernel)",
   "language": "python",
   "name": "python3"
  },
  "language_info": {
   "codemirror_mode": {
    "name": "ipython",
    "version": 3
   },
   "file_extension": ".py",
   "mimetype": "text/x-python",
   "name": "python",
   "nbconvert_exporter": "python",
   "pygments_lexer": "ipython3",
   "version": "3.10.4"
  }
 },
 "nbformat": 4,
 "nbformat_minor": 5
}
